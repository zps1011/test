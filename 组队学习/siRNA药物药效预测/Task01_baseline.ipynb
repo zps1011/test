{
 "cells": [
  {
   "cell_type": "markdown",
   "metadata": {},
   "source": [
    "# Task 01 siRNA\n",
    "这段代码实现了一个用于siRNA数据集的深度学习模型训练框架。"
   ]
  },
  {
   "cell_type": "markdown",
   "metadata": {},
   "source": [
    "### 1. 依赖库的导入"
   ]
  },
  {
   "cell_type": "code",
   "execution_count": 1,
   "metadata": {
    "execution": {
     "iopub.execute_input": "2024-07-22T10:53:42.587833Z",
     "iopub.status.busy": "2024-07-22T10:53:42.587595Z",
     "iopub.status.idle": "2024-07-22T10:53:44.158269Z",
     "shell.execute_reply": "2024-07-22T10:53:44.157757Z",
     "shell.execute_reply.started": "2024-07-22T10:53:42.587814Z"
    },
    "tags": []
   },
   "outputs": [],
   "source": [
    "import os  # 文件操作\n",
    "import torch  # 深度学习框架\n",
    "import random  # 随机数生成\n",
    "import numpy as np  # 数值计算\n",
    "import pandas as pd  # 数据处理\n",
    "\n",
    "import torch.nn as nn  # 神经网络模块\n",
    "import torch.optim as optim  # 优化器模块\n",
    "\n",
    "from tqdm import tqdm  # 进度条显示\n",
    "from rich import print  # 美化打印输出\n",
    "from collections import Counter  # 计数器工具\n",
    "\n",
    "from torch.utils.data import Dataset, DataLoader  # 数据集和数据加载器\n",
    "from sklearn.model_selection import train_test_split  # 数据集划分\n",
    "from sklearn.metrics import precision_score, recall_score, mean_absolute_error  # 模型评估指标\n",
    "\n",
    "# 这些库包括了文件操作、深度学习、数据处理、模型评估等必要的工具。"
   ]
  },
  {
   "cell_type": "code",
   "execution_count": 2,
   "metadata": {
    "execution": {
     "iopub.execute_input": "2024-07-22T10:53:44.159972Z",
     "iopub.status.busy": "2024-07-22T10:53:44.159611Z",
     "iopub.status.idle": "2024-07-22T10:53:44.163272Z",
     "shell.execute_reply": "2024-07-22T10:53:44.162770Z",
     "shell.execute_reply.started": "2024-07-22T10:53:44.159954Z"
    }
   },
   "outputs": [],
   "source": [
    "# 该函数确保了在使用NumPy、Python内置随机数生成器和PyTorch时，所有的随机数生成都是可控的和可复现的，有助于实验结果的一致性。\n",
    "def set_random_seed(seed):\n",
    "    # 设置NumPy的随机种子\n",
    "    np.random.seed(seed)\n",
    "    # 设置Python内置的随机数生成器的种子\n",
    "    random.seed(seed)\n",
    "    # 设置PyTorch的随机种子\n",
    "    torch.manual_seed(seed)\n",
    "    # 设置CUDA的随机种子\n",
    "    torch.cuda.manual_seed(seed)\n",
    "    # 设置所有CUDA设备的随机种子\n",
    "    torch.cuda.manual_seed_all(seed)\n",
    "    # 确保每次卷积算法选择都是确定的\n",
    "    torch.backends.cudnn.deterministic = True\n",
    "    # 关闭CuDNN自动优化功能，确保结果可复现\n",
    "    torch.backends.cudnn.benchmark = False\n"
   ]
  },
  {
   "cell_type": "markdown",
   "metadata": {},
   "source": [
    "### 2. 基因组分词器类\n",
    "该类用于将基因组序列分割成固定长度的n-gram。"
   ]
  },
  {
   "cell_type": "code",
   "execution_count": 3,
   "metadata": {
    "execution": {
     "iopub.execute_input": "2024-07-22T10:53:44.164169Z",
     "iopub.status.busy": "2024-07-22T10:53:44.163967Z",
     "iopub.status.idle": "2024-07-22T10:53:44.168354Z",
     "shell.execute_reply": "2024-07-22T10:53:44.167836Z",
     "shell.execute_reply.started": "2024-07-22T10:53:44.164154Z"
    }
   },
   "outputs": [],
   "source": [
    "class GenomicTokenizer:\n",
    "    def __init__(self, ngram=5, stride=2):\n",
    "        # 初始化分词器，设置n-gram长度和步幅\n",
    "        self.ngram = ngram\n",
    "        self.stride = stride\n",
    "        \n",
    "    def tokenize(self, t):\n",
    "        # 将输入序列转换为大写\n",
    "        t = t.upper()\n",
    "        \n",
    "        if self.ngram == 1:\n",
    "            # 如果n-gram长度为1，直接将序列转换为字符列表\n",
    "            toks = list(t)\n",
    "        else:\n",
    "            # 否则，按照步幅对序列进行n-gram分词\n",
    "            toks = [t[i:i+self.ngram] for i in range(0, len(t), self.stride) if len(t[i:i+self.ngram]) == self.ngram]\n",
    "        \n",
    "        # 如果最后一个分词长度小于n-gram，移除最后一个分词\n",
    "        if len(toks[-1]) < self.ngram:\n",
    "            toks = toks[:-1]\n",
    "        \n",
    "        # 返回分词结果\n",
    "        return toks"
   ]
  },
  {
   "cell_type": "markdown",
   "metadata": {},
   "source": [
    "**代码解读**\n",
    "1. 类初始化：`__init__` 方法接受两个参数 `ngram` 和 `stride`，用于设置分词器的 n-gram 长度和步幅。\n",
    "2. 分词方法：`tokenize` 方法将输入的序列转换为大写，并根据 `ngram` 和 `stride` 对序列进行分词。\n",
    "3. `n-gram` 长度为 1 的处理：如果 `ngram` 为 1，直接将序列转换为字符列表。\n",
    "4. `n-gram` 长度大于 1 的处理：按步幅进行分词，并确保每个分词的长度等于 `ngram`。\n",
    "5. 最后一个分词的处理：如果最后一个分词长度小于 `ngram`，将其移除。\n",
    "6. 返回分词结果：返回处理后的分词结果列表。"
   ]
  },
  {
   "cell_type": "markdown",
   "metadata": {},
   "source": [
    "### 3. 基因组词汇类\n",
    "\n",
    "该类用于创建一个词汇表，用于将基因组片段映射为索引。"
   ]
  },
  {
   "cell_type": "code",
   "execution_count": 4,
   "metadata": {
    "execution": {
     "iopub.execute_input": "2024-07-22T10:53:44.169268Z",
     "iopub.status.busy": "2024-07-22T10:53:44.169060Z",
     "iopub.status.idle": "2024-07-22T10:53:44.172776Z",
     "shell.execute_reply": "2024-07-22T10:53:44.172337Z",
     "shell.execute_reply.started": "2024-07-22T10:53:44.169252Z"
    }
   },
   "outputs": [],
   "source": [
    "class GenomicVocab:\n",
    "    def __init__(self, itos):\n",
    "        # 初始化词汇表，itos是一个词汇表列表\n",
    "        self.itos = itos\n",
    "        # 创建从词汇到索引的映射\n",
    "        self.stoi = {v: k for k, v in enumerate(self.itos)}\n",
    "        \n",
    "    @classmethod\n",
    "    def create(cls, tokens, max_vocab, min_freq):\n",
    "        # 创建词汇表类方法\n",
    "        # 统计每个token出现的频率\n",
    "        freq = Counter(tokens)\n",
    "        # 选择出现频率大于等于min_freq的token，并且最多保留max_vocab个token\n",
    "        itos = ['<pad>'] + [o for o, c in freq.most_common(max_vocab - 1) if c >= min_freq]\n",
    "        # 返回包含词汇表的类实例\n",
    "        return cls(itos)\n"
   ]
  },
  {
   "cell_type": "markdown",
   "metadata": {},
   "source": [
    "**代码解读**\n",
    "1. 类初始化：`__init__` 方法接受一个参数 `itos`，它是一个词汇表列表。\n",
    "\n",
    "    - `itos`：从索引到词汇的映射。\n",
    "    - `stoi`：从词汇到索引的映射，由 `itos` 列表生成。\n",
    "\n",
    "2. 类方法 `create`：创建词汇表的类方法，用于生成 `GenomicVocab` 类的实例。\n",
    "\n",
    "    - 参数：\n",
    "        - `tokens`：所有token的列表。\n",
    "        - `max_vocab`：词汇表的最大容量。\n",
    "        - `min_freq`：词汇在被包含到词汇表中的最低频率。\n",
    "    - 步骤：\n",
    "        - 统计 `tokens` 中每个token出现的频率。\n",
    "        - 按照频率从高到低排序，并选择出现频率大于等于 `min_freq` 的token，最多保留 `max_vocab` 个。\n",
    "        - 在词汇表中添加一个特殊的 `<pad>` token，用于填充序列。\n",
    "        - 返回包含生成的 `itos` 列表的 `GenomicVocab` 实例。"
   ]
  },
  {
   "cell_type": "markdown",
   "metadata": {},
   "source": [
    "### 4. siRNA数据集类\n",
    "\n",
    "该类用于加载siRNA数据，并将序列数据转换为模型可以处理的格式。"
   ]
  },
  {
   "cell_type": "code",
   "execution_count": 19,
   "metadata": {
    "ExecutionIndicator": {
     "show": true
    },
    "execution": {
     "iopub.execute_input": "2024-07-22T11:12:34.121240Z",
     "iopub.status.busy": "2024-07-22T11:12:34.120899Z",
     "iopub.status.idle": "2024-07-22T11:12:34.127466Z",
     "shell.execute_reply": "2024-07-22T11:12:34.126919Z",
     "shell.execute_reply.started": "2024-07-22T11:12:34.121222Z"
    },
    "tags": []
   },
   "outputs": [],
   "source": [
    "class SiRNADataset(Dataset):\n",
    "    def __init__(self, df, columns, vocab, tokenizer, max_len, is_test=False):\n",
    "        # 初始化数据集\n",
    "        self.df = df  # 数据框\n",
    "        self.columns = columns  # 包含序列的列名\n",
    "        self.vocab = vocab  # 词汇表\n",
    "        self.tokenizer = tokenizer  # 分词器\n",
    "        self.max_len = max_len  # 最大序列长度\n",
    "        self.is_test = is_test  # 指示是否是测速集\n",
    "\n",
    "    def __len__(self):\n",
    "        # 返回数据集的长度\n",
    "        return len(self.df)\n",
    "\n",
    "    def __getitem__(self, idx):\n",
    "        # 获取数据集中的第idx个样本\n",
    "        row = self.df.iloc[idx]  # 获取第idx行数据\n",
    "        \n",
    "        # 对每一列进行分词和编码\n",
    "        seqs = [self.tokenize_and_encode(row[col]) for col in self.columns]\n",
    "        if self.is_test:\n",
    "            # 仅返回编码后的序列（非测试集模式）\n",
    "            return seqs\n",
    "        else:\n",
    "            # 获取目标值并转换为张量（仅在非测试集模式下）\n",
    "            target = torch.tensor(row['mRNA_remaining_pct'], dtype=torch.float)\n",
    "            # 返回编码后的序列和目标值\n",
    "            return seqs, target\n",
    "\n",
    "    def tokenize_and_encode(self, seq):\n",
    "        if ' ' in seq:  # 修改过的序列\n",
    "            tokens = seq.split()  # 按空格分词\n",
    "        else:  # 常规序列\n",
    "            tokens = self.tokenizer.tokenize(seq)  # 使用分词器分词\n",
    "        \n",
    "        # 将token转换为索引，未知token使用0（<pad>）\n",
    "        encoded = [self.vocab.stoi.get(token, 0) for token in tokens]\n",
    "        # 将序列填充到最大长度\n",
    "        padded = encoded + [0] * (self.max_len - len(encoded))\n",
    "        # 返回张量格式的序列\n",
    "        return torch.tensor(padded[:self.max_len], dtype=torch.long)\n",
    "\n"
   ]
  },
  {
   "cell_type": "markdown",
   "metadata": {},
   "source": [
    "**代码解读**\n",
    "1. 初始化：`__init__` 方法初始化数据集的必要参数：\n",
    "\n",
    "    - `df`：包含数据的Pandas数据框。\n",
    "    - `columns`：包含序列的列名列表。\n",
    "    - `vocab`：词汇表对象，用于将token转换为索引。\n",
    "    - `tokenizer`：分词器对象，用于将序列分割为token。\n",
    "    - `max_len`：序列的最大长度，所有序列将被填充或截断到这个长度。\n",
    "    - `is_train`：布尔值，指示数据集是否用于训练（默认为False）。\n",
    "\n",
    "2. 获取数据集长度：`__len__` 方法返回数据集的样本数量。\n",
    "\n",
    "3. 获取样本：__getitem__ 方法获取数据集中指定索引的样本：\n",
    "\n",
    "    - 获取指定行的数据。\n",
    "    - 对每个包含序列的列进行分词和编码。\n",
    "    - 获取目标值（mRNA_remaining_pct），并将其转换为张量。\n",
    "    - 返回编码后的序列和目标值。\n",
    "\n",
    "4. 分词和编码：`tokenize_and_encode` 方法对输入序列进行分词和编码：\n",
    "\n",
    "    - 如果序列中包含空格，按空格分词（表示序列已经被修改）。\n",
    "    - 否则，使用分词器对序列进行分词。\n",
    "    - 将分词结果转换为索引，未知`token`用`0（<pad>）`表示。\n",
    "    - 对序列进行填充，使其长度等于最大长度 `max_len`。\n",
    "    - 返回张量格式的填充序列。"
   ]
  },
  {
   "cell_type": "markdown",
   "metadata": {},
   "source": [
    "### 5. siRNA Model\n",
    "\n",
    "这是一个基于GRU的神经网络模型，用于处理siRNA序列。"
   ]
  },
  {
   "cell_type": "code",
   "execution_count": 20,
   "metadata": {
    "ExecutionIndicator": {
     "show": true
    },
    "execution": {
     "iopub.execute_input": "2024-07-22T11:12:35.507289Z",
     "iopub.status.busy": "2024-07-22T11:12:35.506929Z",
     "iopub.status.idle": "2024-07-22T11:12:35.513391Z",
     "shell.execute_reply": "2024-07-22T11:12:35.512759Z",
     "shell.execute_reply.started": "2024-07-22T11:12:35.507271Z"
    },
    "tags": []
   },
   "outputs": [],
   "source": [
    "class SiRNAModel(nn.Module):\n",
    "    def __init__(self, vocab_size, embed_dim=200, hidden_dim=256, n_layers=3, dropout=0.5):\n",
    "        super(SiRNAModel, self).__init__()\n",
    "        \n",
    "        # 初始化嵌入层\n",
    "        self.embedding = nn.Embedding(vocab_size, embed_dim, padding_idx=0)\n",
    "        # 初始化GRU层\n",
    "        self.gru = nn.GRU(embed_dim, hidden_dim, n_layers, bidirectional=True, batch_first=True, dropout=dropout)\n",
    "        # 初始化全连接层\n",
    "        self.fc = nn.Linear(hidden_dim * 4, 1)  # hidden_dim * 4 因为GRU是双向的，有n_layers层\n",
    "        # 初始化Dropout层\n",
    "        self.dropout = nn.Dropout(dropout)\n",
    "    \n",
    "    def forward(self, x):\n",
    "        # 将输入序列传入嵌入层\n",
    "        embedded = [self.embedding(seq) for seq in x]\n",
    "        outputs = []\n",
    "        \n",
    "        # 对每个嵌入的序列进行处理\n",
    "        for embed in embedded:\n",
    "            x, _ = self.gru(embed)  # 传入GRU层\n",
    "            x = self.dropout(x[:, -1, :])  # 取最后一个隐藏状态，并进行dropout处理\n",
    "            outputs.append(x)\n",
    "        \n",
    "        # 将所有序列的输出拼接起来\n",
    "        x = torch.cat(outputs, dim=1)\n",
    "        # 传入全连接层\n",
    "        x = self.fc(x)\n",
    "        # 返回结果\n",
    "        return x.squeeze()\n",
    "    "
   ]
  },
  {
   "cell_type": "markdown",
   "metadata": {},
   "source": [
    "**代码解读**\n",
    "1. 初始化方法 `__init__`：\n",
    "\n",
    "    - `vocab_size`：词汇表大小，用于嵌入层。\n",
    "    - `embed_dim`：嵌入维度，嵌入层将词汇映射为 `embed_dim` 维向量。\n",
    "    - `hidden_dim`：隐藏层维度，GRU的隐藏状态维度。\n",
    "    - `n_layers`：GRU的层数。\n",
    "    - `dropout`：`Dropout`层的丢弃率，用于防止过拟合。\n",
    "    \n",
    "该方法初始化了模型的各层，包括`嵌入层`、`GRU层`、`全连接层`和`Dropout层`。\n",
    "\n",
    "2. 前向传播方法 `forward`：\n",
    "\n",
    "    - 将输入序列传入嵌入层进行词汇嵌入。\n",
    "    - 对每个嵌入的序列进行`GRU`处理，提取最后一个隐藏状态并进行`Dropout`处理。\n",
    "    - 将所有处理后的序列输出拼接起来，并传入全连接层。\n",
    "    - 返回经过全连接层后的结果。"
   ]
  },
  {
   "cell_type": "markdown",
   "metadata": {},
   "source": [
    "### 6. 评估指标计算函数\n",
    "\n",
    "该函数用于计算模型的各项评估指标，包括精确度、召回率、F1值和评分。"
   ]
  },
  {
   "cell_type": "code",
   "execution_count": 21,
   "metadata": {
    "execution": {
     "iopub.execute_input": "2024-07-22T11:12:36.206194Z",
     "iopub.status.busy": "2024-07-22T11:12:36.205844Z",
     "iopub.status.idle": "2024-07-22T11:12:36.210472Z",
     "shell.execute_reply": "2024-07-22T11:12:36.210008Z",
     "shell.execute_reply.started": "2024-07-22T11:12:36.206174Z"
    },
    "tags": []
   },
   "outputs": [],
   "source": [
    "def calculate_metrics(y_true, y_pred, threshold=30):\n",
    "    # 计算平均绝对误差\n",
    "    mae = np.mean(np.abs(y_true - y_pred))\n",
    "\n",
    "    # 将实际值和预测值转换为二进制分类（低于阈值为1，高于或等于阈值为0）\n",
    "    y_true_binary = (y_true < threshold).astype(int)\n",
    "    y_pred_binary = (y_pred < threshold).astype(int)\n",
    "\n",
    "    # 创建掩码，用于筛选预测值在0和阈值之间的样本\n",
    "    mask = (y_pred >= 0) & (y_pred <= threshold)\n",
    "    range_mae = mean_absolute_error(y_true[mask], y_pred[mask]) if mask.sum() > 0 else 100\n",
    "\n",
    "    # 计算精确度、召回率和F1得分\n",
    "    precision = precision_score(y_true_binary, y_pred_binary, average='binary')\n",
    "    recall = recall_score(y_true_binary, y_pred_binary, average='binary')\n",
    "    f1 = 2 * precision * recall / (precision + recall)\n",
    "\n",
    "    # 计算综合评分\n",
    "    score = (1 - mae / 100) * 0.5 + (1 - range_mae / 100) * f1 * 0.5\n",
    "\n",
    "    return score"
   ]
  },
  {
   "cell_type": "markdown",
   "metadata": {},
   "source": [
    "**代码解读**\n",
    "1. 计算平均绝对误差 (MAE)：\n",
    "\n",
    "    - `mae = np.mean(np.abs(y_true - y_pred))`：计算实际值和预测值之间的`平均绝对误差`。\n",
    "\n",
    "2. 将实际值和预测值转换为二进制分类：\n",
    "\n",
    "    - `y_true_binary = (y_true < threshold).astype(int)`：如果`实际值`小于`阈值`，设为`1`，否则设为`0`。\n",
    "    - `y_pred_binary = (y_pred < threshold).astype(int)`：如果`预测值`小于`阈值`，设为`1`，否则设为`0`。\n",
    "\n",
    "3. 创建掩码：\n",
    "\n",
    "    - `mask = (y_pred >= 0) & (y_pred <= threshold)`：筛选`预测值`在`0`和`阈值`之间的样本。\n",
    "    - `range_mae = mean_absolute_error(y_true[mask], y_pred[mask]) if mask.sum() > 0 else 100`：计算这些样本的`平均绝对误差`，如果`没有`符合条件的样本，设为`100`。\n",
    "\n",
    "4. 计算精确度、召回率和F1得分：\n",
    "\n",
    "    - `precision = precision_score(y_true_binary, y_pred_binary, average='binary')`：计算精确度。\n",
    "    - `recall = recall_score(y_true_binary, y_pred_binary, average='binary')`：计算召回率。\n",
    "    - `f1 = 2 * precision * recall / (precision + recall)`：计算F1得分。\n",
    "\n",
    "5. 计算综合评分：\n",
    "\n",
    "    - `score = (1 - mae / 100) * 0.5 + (1 - range_mae / 100) * f1 * 0.5`：综合MAE、范围内的MAE和F1得分，计算最终评分。\n",
    "\n",
    "6. 返回评分：\n",
    "\n",
    "    - `return score`：返回综合评分。"
   ]
  },
  {
   "cell_type": "markdown",
   "metadata": {},
   "source": [
    "### 7. 模型评估函数\n",
    "\n",
    "该函数用于在测试集上评估模型性能。"
   ]
  },
  {
   "cell_type": "code",
   "execution_count": 22,
   "metadata": {
    "execution": {
     "iopub.execute_input": "2024-07-22T11:12:36.941006Z",
     "iopub.status.busy": "2024-07-22T11:12:36.940695Z",
     "iopub.status.idle": "2024-07-22T11:12:36.945194Z",
     "shell.execute_reply": "2024-07-22T11:12:36.944717Z",
     "shell.execute_reply.started": "2024-07-22T11:12:36.940987Z"
    },
    "tags": []
   },
   "outputs": [],
   "source": [
    "def evaluate_model(model, test_loader, device='cuda'):\n",
    "    # 设置模型为评估模式\n",
    "    model.eval()\n",
    "    predictions = []\n",
    "    targets = []\n",
    "    \n",
    "    # 禁用梯度计算\n",
    "    with torch.no_grad():\n",
    "        # 遍历测试数据加载器中的每个批次\n",
    "        for inputs, target in test_loader:\n",
    "            # 将输入数据移动到指定设备上\n",
    "            inputs = [x.to(device) for x in inputs]\n",
    "            # 获取模型的输出\n",
    "            outputs = model(inputs)\n",
    "            # 将预测结果从GPU移到CPU，并转换为numpy数组，添加到predictions列表中\n",
    "            predictions.extend(outputs.cpu().numpy())\n",
    "            # 将目标值转换为numpy数组，添加到targets列表中\n",
    "            targets.extend(target.numpy())\n",
    "\n",
    "    # 将预测结果和目标值转换为numpy数组\n",
    "    y_pred = np.array(predictions)\n",
    "    y_test = np.array(targets)\n",
    "    \n",
    "    # 计算评估指标\n",
    "    score = calculate_metrics(y_test, y_pred)\n",
    "    # 打印测试得分\n",
    "    print(f\"Test Score: {score:.4f}\")"
   ]
  },
  {
   "cell_type": "markdown",
   "metadata": {},
   "source": [
    "### 8. 模型训练函数\n",
    "\n",
    "函数用于训练模型，并在每个epoch后评估模型的性能，保存最佳模型。"
   ]
  },
  {
   "cell_type": "code",
   "execution_count": 23,
   "metadata": {
    "execution": {
     "iopub.execute_input": "2024-07-22T11:12:37.882506Z",
     "iopub.status.busy": "2024-07-22T11:12:37.882185Z",
     "iopub.status.idle": "2024-07-22T11:12:37.890568Z",
     "shell.execute_reply": "2024-07-22T11:12:37.890026Z",
     "shell.execute_reply.started": "2024-07-22T11:12:37.882486Z"
    },
    "tags": []
   },
   "outputs": [],
   "source": [
    "def train_model(model, train_loader, val_loader, criterion, optimizer, num_epochs=50, device='cuda', output_dir: str=\"\"):\n",
    "    # 将模型移动到指定设备\n",
    "    model.to(device)\n",
    "    best_score = -float('inf')  # 初始化最佳得分\n",
    "    best_model = None  # 初始化最佳模型\n",
    "\n",
    "    for epoch in range(num_epochs):\n",
    "        model.train()  # 设置模型为训练模式\n",
    "        train_loss = 0  # 初始化训练损失\n",
    "        for inputs, targets in tqdm(train_loader, desc=f'Epoch {epoch+1}/{num_epochs}'):\n",
    "            inputs = [x.to(device) for x in inputs]  # 将输入移动到设备\n",
    "            targets = targets.to(device)  # 将目标值移动到设备\n",
    "            \n",
    "            optimizer.zero_grad()  # 清空梯度\n",
    "            outputs = model(inputs)  # 前向传播\n",
    "            loss = criterion(outputs, targets)  # 计算损失\n",
    "            loss.backward()  # 反向传播\n",
    "            optimizer.step()  # 更新参数\n",
    "            \n",
    "            train_loss += loss.item()  # 累加训练损失\n",
    "        \n",
    "        model.eval()  # 设置模型为评估模式\n",
    "        val_loss = 0  # 初始化验证损失\n",
    "        val_preds = []\n",
    "        val_targets = []\n",
    "\n",
    "        with torch.no_grad():\n",
    "            for inputs, targets in val_loader:\n",
    "                inputs = [x.to(device) for x in inputs]  # 将输入移动到设备\n",
    "                targets = targets.to(device)  # 将目标值移动到设备\n",
    "                outputs = model(inputs)  # 前向传播\n",
    "                loss = criterion(outputs, targets)  # 计算损失\n",
    "                val_loss += loss.item()  # 累加验证损失\n",
    "                val_preds.extend(outputs.cpu().numpy())  # 收集预测值\n",
    "                val_targets.extend(targets.cpu().numpy())  # 收集目标值\n",
    "        \n",
    "        train_loss /= len(train_loader)  # 计算平均训练损失\n",
    "        val_loss /= len(val_loader)  # 计算平均验证损失\n",
    "        \n",
    "        val_preds = np.array(val_preds)\n",
    "        val_targets = np.array(val_targets)\n",
    "        score = calculate_metrics(val_targets, val_preds)  # 计算验证集上的得分\n",
    "        \n",
    "        print(f'Epoch {epoch+1}/{num_epochs}')\n",
    "        print(f'Train Loss: {train_loss:.4f}, Val Loss: {val_loss:.4f}')\n",
    "        print(f'Learning Rate: {optimizer.param_groups[0][\"lr\"]:.6f}')\n",
    "        print(f'Validation Score: {score:.4f}')\n",
    "\n",
    "        if score > best_score:\n",
    "            best_score = score  # 更新最佳得分\n",
    "            best_model = model.state_dict().copy()  # 更新最佳模型\n",
    "            torch.save(model.state_dict(), os.path.join(output_dir, \"best.pt\".format(epoch)))  # 保存最佳模型\n",
    "            print(f'New best model found with score: {best_score:.4f}')\n",
    "\n",
    "    return best_model  # 返回最佳模型\n"
   ]
  },
  {
   "cell_type": "markdown",
   "metadata": {},
   "source": [
    "### 9. 训练主程序"
   ]
  },
  {
   "cell_type": "code",
   "execution_count": 24,
   "metadata": {
    "ExecutionIndicator": {
     "show": true
    },
    "execution": {
     "iopub.execute_input": "2024-07-22T11:12:38.995525Z",
     "iopub.status.busy": "2024-07-22T11:12:38.995211Z",
     "iopub.status.idle": "2024-07-22T11:17:32.759383Z",
     "shell.execute_reply": "2024-07-22T11:17:32.758906Z",
     "shell.execute_reply.started": "2024-07-22T11:12:38.995505Z"
    },
    "tags": []
   },
   "outputs": [
    {
     "name": "stderr",
     "output_type": "stream",
     "text": [
      "Epoch 1/50: 100%|██████████| 363/363 [00:05<00:00, 66.18it/s]\n"
     ]
    },
    {
     "data": {
      "text/html": [
       "<pre style=\"white-space:pre;overflow-x:auto;line-height:normal;font-family:Menlo,'DejaVu Sans Mono',consolas,'Courier New',monospace\">Epoch <span style=\"color: #008080; text-decoration-color: #008080; font-weight: bold\">1</span>/<span style=\"color: #008080; text-decoration-color: #008080; font-weight: bold\">50</span>\n",
       "</pre>\n"
      ],
      "text/plain": [
       "Epoch \u001b[1;36m1\u001b[0m/\u001b[1;36m50\u001b[0m\n"
      ]
     },
     "metadata": {},
     "output_type": "display_data"
    },
    {
     "data": {
      "text/html": [
       "<pre style=\"white-space:pre;overflow-x:auto;line-height:normal;font-family:Menlo,'DejaVu Sans Mono',consolas,'Courier New',monospace\">Train Loss: <span style=\"color: #008080; text-decoration-color: #008080; font-weight: bold\">1366.2798</span>, Val Loss: <span style=\"color: #008080; text-decoration-color: #008080; font-weight: bold\">1182.0657</span>\n",
       "</pre>\n"
      ],
      "text/plain": [
       "Train Loss: \u001b[1;36m1366.2798\u001b[0m, Val Loss: \u001b[1;36m1182.0657\u001b[0m\n"
      ]
     },
     "metadata": {},
     "output_type": "display_data"
    },
    {
     "data": {
      "text/html": [
       "<pre style=\"white-space:pre;overflow-x:auto;line-height:normal;font-family:Menlo,'DejaVu Sans Mono',consolas,'Courier New',monospace\">Learning Rate: <span style=\"color: #008080; text-decoration-color: #008080; font-weight: bold\">0.001000</span>\n",
       "</pre>\n"
      ],
      "text/plain": [
       "Learning Rate: \u001b[1;36m0.001000\u001b[0m\n"
      ]
     },
     "metadata": {},
     "output_type": "display_data"
    },
    {
     "data": {
      "text/html": [
       "<pre style=\"white-space:pre;overflow-x:auto;line-height:normal;font-family:Menlo,'DejaVu Sans Mono',consolas,'Courier New',monospace\">Validation Score: <span style=\"color: #008080; text-decoration-color: #008080; font-weight: bold\">0.3624</span>\n",
       "</pre>\n"
      ],
      "text/plain": [
       "Validation Score: \u001b[1;36m0.3624\u001b[0m\n"
      ]
     },
     "metadata": {},
     "output_type": "display_data"
    },
    {
     "data": {
      "text/html": [
       "<pre style=\"white-space:pre;overflow-x:auto;line-height:normal;font-family:Menlo,'DejaVu Sans Mono',consolas,'Courier New',monospace\">New best model found with score: <span style=\"color: #008080; text-decoration-color: #008080; font-weight: bold\">0.3624</span>\n",
       "</pre>\n"
      ],
      "text/plain": [
       "New best model found with score: \u001b[1;36m0.3624\u001b[0m\n"
      ]
     },
     "metadata": {},
     "output_type": "display_data"
    },
    {
     "name": "stderr",
     "output_type": "stream",
     "text": [
      "Epoch 2/50: 100%|██████████| 363/363 [00:05<00:00, 65.41it/s]\n"
     ]
    },
    {
     "data": {
      "text/html": [
       "<pre style=\"white-space:pre;overflow-x:auto;line-height:normal;font-family:Menlo,'DejaVu Sans Mono',consolas,'Courier New',monospace\">Epoch <span style=\"color: #008080; text-decoration-color: #008080; font-weight: bold\">2</span>/<span style=\"color: #008080; text-decoration-color: #008080; font-weight: bold\">50</span>\n",
       "</pre>\n"
      ],
      "text/plain": [
       "Epoch \u001b[1;36m2\u001b[0m/\u001b[1;36m50\u001b[0m\n"
      ]
     },
     "metadata": {},
     "output_type": "display_data"
    },
    {
     "data": {
      "text/html": [
       "<pre style=\"white-space:pre;overflow-x:auto;line-height:normal;font-family:Menlo,'DejaVu Sans Mono',consolas,'Courier New',monospace\">Train Loss: <span style=\"color: #008080; text-decoration-color: #008080; font-weight: bold\">1113.7635</span>, Val Loss: <span style=\"color: #008080; text-decoration-color: #008080; font-weight: bold\">1022.5920</span>\n",
       "</pre>\n"
      ],
      "text/plain": [
       "Train Loss: \u001b[1;36m1113.7635\u001b[0m, Val Loss: \u001b[1;36m1022.5920\u001b[0m\n"
      ]
     },
     "metadata": {},
     "output_type": "display_data"
    },
    {
     "data": {
      "text/html": [
       "<pre style=\"white-space:pre;overflow-x:auto;line-height:normal;font-family:Menlo,'DejaVu Sans Mono',consolas,'Courier New',monospace\">Learning Rate: <span style=\"color: #008080; text-decoration-color: #008080; font-weight: bold\">0.001000</span>\n",
       "</pre>\n"
      ],
      "text/plain": [
       "Learning Rate: \u001b[1;36m0.001000\u001b[0m\n"
      ]
     },
     "metadata": {},
     "output_type": "display_data"
    },
    {
     "data": {
      "text/html": [
       "<pre style=\"white-space:pre;overflow-x:auto;line-height:normal;font-family:Menlo,'DejaVu Sans Mono',consolas,'Courier New',monospace\">Validation Score: <span style=\"color: #008080; text-decoration-color: #008080; font-weight: bold\">0.4021</span>\n",
       "</pre>\n"
      ],
      "text/plain": [
       "Validation Score: \u001b[1;36m0.4021\u001b[0m\n"
      ]
     },
     "metadata": {},
     "output_type": "display_data"
    },
    {
     "data": {
      "text/html": [
       "<pre style=\"white-space:pre;overflow-x:auto;line-height:normal;font-family:Menlo,'DejaVu Sans Mono',consolas,'Courier New',monospace\">New best model found with score: <span style=\"color: #008080; text-decoration-color: #008080; font-weight: bold\">0.4021</span>\n",
       "</pre>\n"
      ],
      "text/plain": [
       "New best model found with score: \u001b[1;36m0.4021\u001b[0m\n"
      ]
     },
     "metadata": {},
     "output_type": "display_data"
    },
    {
     "name": "stderr",
     "output_type": "stream",
     "text": [
      "Epoch 3/50: 100%|██████████| 363/363 [00:05<00:00, 65.64it/s]\n"
     ]
    },
    {
     "data": {
      "text/html": [
       "<pre style=\"white-space:pre;overflow-x:auto;line-height:normal;font-family:Menlo,'DejaVu Sans Mono',consolas,'Courier New',monospace\">Epoch <span style=\"color: #008080; text-decoration-color: #008080; font-weight: bold\">3</span>/<span style=\"color: #008080; text-decoration-color: #008080; font-weight: bold\">50</span>\n",
       "</pre>\n"
      ],
      "text/plain": [
       "Epoch \u001b[1;36m3\u001b[0m/\u001b[1;36m50\u001b[0m\n"
      ]
     },
     "metadata": {},
     "output_type": "display_data"
    },
    {
     "data": {
      "text/html": [
       "<pre style=\"white-space:pre;overflow-x:auto;line-height:normal;font-family:Menlo,'DejaVu Sans Mono',consolas,'Courier New',monospace\">Train Loss: <span style=\"color: #008080; text-decoration-color: #008080; font-weight: bold\">988.8086</span>, Val Loss: <span style=\"color: #008080; text-decoration-color: #008080; font-weight: bold\">1003.5091</span>\n",
       "</pre>\n"
      ],
      "text/plain": [
       "Train Loss: \u001b[1;36m988.8086\u001b[0m, Val Loss: \u001b[1;36m1003.5091\u001b[0m\n"
      ]
     },
     "metadata": {},
     "output_type": "display_data"
    },
    {
     "data": {
      "text/html": [
       "<pre style=\"white-space:pre;overflow-x:auto;line-height:normal;font-family:Menlo,'DejaVu Sans Mono',consolas,'Courier New',monospace\">Learning Rate: <span style=\"color: #008080; text-decoration-color: #008080; font-weight: bold\">0.001000</span>\n",
       "</pre>\n"
      ],
      "text/plain": [
       "Learning Rate: \u001b[1;36m0.001000\u001b[0m\n"
      ]
     },
     "metadata": {},
     "output_type": "display_data"
    },
    {
     "data": {
      "text/html": [
       "<pre style=\"white-space:pre;overflow-x:auto;line-height:normal;font-family:Menlo,'DejaVu Sans Mono',consolas,'Courier New',monospace\">Validation Score: <span style=\"color: #008080; text-decoration-color: #008080; font-weight: bold\">0.4637</span>\n",
       "</pre>\n"
      ],
      "text/plain": [
       "Validation Score: \u001b[1;36m0.4637\u001b[0m\n"
      ]
     },
     "metadata": {},
     "output_type": "display_data"
    },
    {
     "data": {
      "text/html": [
       "<pre style=\"white-space:pre;overflow-x:auto;line-height:normal;font-family:Menlo,'DejaVu Sans Mono',consolas,'Courier New',monospace\">New best model found with score: <span style=\"color: #008080; text-decoration-color: #008080; font-weight: bold\">0.4637</span>\n",
       "</pre>\n"
      ],
      "text/plain": [
       "New best model found with score: \u001b[1;36m0.4637\u001b[0m\n"
      ]
     },
     "metadata": {},
     "output_type": "display_data"
    },
    {
     "name": "stderr",
     "output_type": "stream",
     "text": [
      "Epoch 4/50: 100%|██████████| 363/363 [00:05<00:00, 66.30it/s]\n"
     ]
    },
    {
     "data": {
      "text/html": [
       "<pre style=\"white-space:pre;overflow-x:auto;line-height:normal;font-family:Menlo,'DejaVu Sans Mono',consolas,'Courier New',monospace\">Epoch <span style=\"color: #008080; text-decoration-color: #008080; font-weight: bold\">4</span>/<span style=\"color: #008080; text-decoration-color: #008080; font-weight: bold\">50</span>\n",
       "</pre>\n"
      ],
      "text/plain": [
       "Epoch \u001b[1;36m4\u001b[0m/\u001b[1;36m50\u001b[0m\n"
      ]
     },
     "metadata": {},
     "output_type": "display_data"
    },
    {
     "data": {
      "text/html": [
       "<pre style=\"white-space:pre;overflow-x:auto;line-height:normal;font-family:Menlo,'DejaVu Sans Mono',consolas,'Courier New',monospace\">Train Loss: <span style=\"color: #008080; text-decoration-color: #008080; font-weight: bold\">892.0006</span>, Val Loss: <span style=\"color: #008080; text-decoration-color: #008080; font-weight: bold\">900.4926</span>\n",
       "</pre>\n"
      ],
      "text/plain": [
       "Train Loss: \u001b[1;36m892.0006\u001b[0m, Val Loss: \u001b[1;36m900.4926\u001b[0m\n"
      ]
     },
     "metadata": {},
     "output_type": "display_data"
    },
    {
     "data": {
      "text/html": [
       "<pre style=\"white-space:pre;overflow-x:auto;line-height:normal;font-family:Menlo,'DejaVu Sans Mono',consolas,'Courier New',monospace\">Learning Rate: <span style=\"color: #008080; text-decoration-color: #008080; font-weight: bold\">0.001000</span>\n",
       "</pre>\n"
      ],
      "text/plain": [
       "Learning Rate: \u001b[1;36m0.001000\u001b[0m\n"
      ]
     },
     "metadata": {},
     "output_type": "display_data"
    },
    {
     "data": {
      "text/html": [
       "<pre style=\"white-space:pre;overflow-x:auto;line-height:normal;font-family:Menlo,'DejaVu Sans Mono',consolas,'Courier New',monospace\">Validation Score: <span style=\"color: #008080; text-decoration-color: #008080; font-weight: bold\">0.4788</span>\n",
       "</pre>\n"
      ],
      "text/plain": [
       "Validation Score: \u001b[1;36m0.4788\u001b[0m\n"
      ]
     },
     "metadata": {},
     "output_type": "display_data"
    },
    {
     "data": {
      "text/html": [
       "<pre style=\"white-space:pre;overflow-x:auto;line-height:normal;font-family:Menlo,'DejaVu Sans Mono',consolas,'Courier New',monospace\">New best model found with score: <span style=\"color: #008080; text-decoration-color: #008080; font-weight: bold\">0.4788</span>\n",
       "</pre>\n"
      ],
      "text/plain": [
       "New best model found with score: \u001b[1;36m0.4788\u001b[0m\n"
      ]
     },
     "metadata": {},
     "output_type": "display_data"
    },
    {
     "name": "stderr",
     "output_type": "stream",
     "text": [
      "Epoch 5/50: 100%|██████████| 363/363 [00:05<00:00, 66.50it/s]\n"
     ]
    },
    {
     "data": {
      "text/html": [
       "<pre style=\"white-space:pre;overflow-x:auto;line-height:normal;font-family:Menlo,'DejaVu Sans Mono',consolas,'Courier New',monospace\">Epoch <span style=\"color: #008080; text-decoration-color: #008080; font-weight: bold\">5</span>/<span style=\"color: #008080; text-decoration-color: #008080; font-weight: bold\">50</span>\n",
       "</pre>\n"
      ],
      "text/plain": [
       "Epoch \u001b[1;36m5\u001b[0m/\u001b[1;36m50\u001b[0m\n"
      ]
     },
     "metadata": {},
     "output_type": "display_data"
    },
    {
     "data": {
      "text/html": [
       "<pre style=\"white-space:pre;overflow-x:auto;line-height:normal;font-family:Menlo,'DejaVu Sans Mono',consolas,'Courier New',monospace\">Train Loss: <span style=\"color: #008080; text-decoration-color: #008080; font-weight: bold\">812.8512</span>, Val Loss: <span style=\"color: #008080; text-decoration-color: #008080; font-weight: bold\">872.7081</span>\n",
       "</pre>\n"
      ],
      "text/plain": [
       "Train Loss: \u001b[1;36m812.8512\u001b[0m, Val Loss: \u001b[1;36m872.7081\u001b[0m\n"
      ]
     },
     "metadata": {},
     "output_type": "display_data"
    },
    {
     "data": {
      "text/html": [
       "<pre style=\"white-space:pre;overflow-x:auto;line-height:normal;font-family:Menlo,'DejaVu Sans Mono',consolas,'Courier New',monospace\">Learning Rate: <span style=\"color: #008080; text-decoration-color: #008080; font-weight: bold\">0.001000</span>\n",
       "</pre>\n"
      ],
      "text/plain": [
       "Learning Rate: \u001b[1;36m0.001000\u001b[0m\n"
      ]
     },
     "metadata": {},
     "output_type": "display_data"
    },
    {
     "data": {
      "text/html": [
       "<pre style=\"white-space:pre;overflow-x:auto;line-height:normal;font-family:Menlo,'DejaVu Sans Mono',consolas,'Courier New',monospace\">Validation Score: <span style=\"color: #008080; text-decoration-color: #008080; font-weight: bold\">0.5524</span>\n",
       "</pre>\n"
      ],
      "text/plain": [
       "Validation Score: \u001b[1;36m0.5524\u001b[0m\n"
      ]
     },
     "metadata": {},
     "output_type": "display_data"
    },
    {
     "data": {
      "text/html": [
       "<pre style=\"white-space:pre;overflow-x:auto;line-height:normal;font-family:Menlo,'DejaVu Sans Mono',consolas,'Courier New',monospace\">New best model found with score: <span style=\"color: #008080; text-decoration-color: #008080; font-weight: bold\">0.5524</span>\n",
       "</pre>\n"
      ],
      "text/plain": [
       "New best model found with score: \u001b[1;36m0.5524\u001b[0m\n"
      ]
     },
     "metadata": {},
     "output_type": "display_data"
    },
    {
     "name": "stderr",
     "output_type": "stream",
     "text": [
      "Epoch 6/50: 100%|██████████| 363/363 [00:05<00:00, 65.69it/s]\n"
     ]
    },
    {
     "data": {
      "text/html": [
       "<pre style=\"white-space:pre;overflow-x:auto;line-height:normal;font-family:Menlo,'DejaVu Sans Mono',consolas,'Courier New',monospace\">Epoch <span style=\"color: #008080; text-decoration-color: #008080; font-weight: bold\">6</span>/<span style=\"color: #008080; text-decoration-color: #008080; font-weight: bold\">50</span>\n",
       "</pre>\n"
      ],
      "text/plain": [
       "Epoch \u001b[1;36m6\u001b[0m/\u001b[1;36m50\u001b[0m\n"
      ]
     },
     "metadata": {},
     "output_type": "display_data"
    },
    {
     "data": {
      "text/html": [
       "<pre style=\"white-space:pre;overflow-x:auto;line-height:normal;font-family:Menlo,'DejaVu Sans Mono',consolas,'Courier New',monospace\">Train Loss: <span style=\"color: #008080; text-decoration-color: #008080; font-weight: bold\">752.3206</span>, Val Loss: <span style=\"color: #008080; text-decoration-color: #008080; font-weight: bold\">854.6747</span>\n",
       "</pre>\n"
      ],
      "text/plain": [
       "Train Loss: \u001b[1;36m752.3206\u001b[0m, Val Loss: \u001b[1;36m854.6747\u001b[0m\n"
      ]
     },
     "metadata": {},
     "output_type": "display_data"
    },
    {
     "data": {
      "text/html": [
       "<pre style=\"white-space:pre;overflow-x:auto;line-height:normal;font-family:Menlo,'DejaVu Sans Mono',consolas,'Courier New',monospace\">Learning Rate: <span style=\"color: #008080; text-decoration-color: #008080; font-weight: bold\">0.001000</span>\n",
       "</pre>\n"
      ],
      "text/plain": [
       "Learning Rate: \u001b[1;36m0.001000\u001b[0m\n"
      ]
     },
     "metadata": {},
     "output_type": "display_data"
    },
    {
     "data": {
      "text/html": [
       "<pre style=\"white-space:pre;overflow-x:auto;line-height:normal;font-family:Menlo,'DejaVu Sans Mono',consolas,'Courier New',monospace\">Validation Score: <span style=\"color: #008080; text-decoration-color: #008080; font-weight: bold\">0.5903</span>\n",
       "</pre>\n"
      ],
      "text/plain": [
       "Validation Score: \u001b[1;36m0.5903\u001b[0m\n"
      ]
     },
     "metadata": {},
     "output_type": "display_data"
    },
    {
     "data": {
      "text/html": [
       "<pre style=\"white-space:pre;overflow-x:auto;line-height:normal;font-family:Menlo,'DejaVu Sans Mono',consolas,'Courier New',monospace\">New best model found with score: <span style=\"color: #008080; text-decoration-color: #008080; font-weight: bold\">0.5903</span>\n",
       "</pre>\n"
      ],
      "text/plain": [
       "New best model found with score: \u001b[1;36m0.5903\u001b[0m\n"
      ]
     },
     "metadata": {},
     "output_type": "display_data"
    },
    {
     "name": "stderr",
     "output_type": "stream",
     "text": [
      "Epoch 7/50: 100%|██████████| 363/363 [00:05<00:00, 66.18it/s]\n"
     ]
    },
    {
     "data": {
      "text/html": [
       "<pre style=\"white-space:pre;overflow-x:auto;line-height:normal;font-family:Menlo,'DejaVu Sans Mono',consolas,'Courier New',monospace\">Epoch <span style=\"color: #008080; text-decoration-color: #008080; font-weight: bold\">7</span>/<span style=\"color: #008080; text-decoration-color: #008080; font-weight: bold\">50</span>\n",
       "</pre>\n"
      ],
      "text/plain": [
       "Epoch \u001b[1;36m7\u001b[0m/\u001b[1;36m50\u001b[0m\n"
      ]
     },
     "metadata": {},
     "output_type": "display_data"
    },
    {
     "data": {
      "text/html": [
       "<pre style=\"white-space:pre;overflow-x:auto;line-height:normal;font-family:Menlo,'DejaVu Sans Mono',consolas,'Courier New',monospace\">Train Loss: <span style=\"color: #008080; text-decoration-color: #008080; font-weight: bold\">707.7204</span>, Val Loss: <span style=\"color: #008080; text-decoration-color: #008080; font-weight: bold\">822.6534</span>\n",
       "</pre>\n"
      ],
      "text/plain": [
       "Train Loss: \u001b[1;36m707.7204\u001b[0m, Val Loss: \u001b[1;36m822.6534\u001b[0m\n"
      ]
     },
     "metadata": {},
     "output_type": "display_data"
    },
    {
     "data": {
      "text/html": [
       "<pre style=\"white-space:pre;overflow-x:auto;line-height:normal;font-family:Menlo,'DejaVu Sans Mono',consolas,'Courier New',monospace\">Learning Rate: <span style=\"color: #008080; text-decoration-color: #008080; font-weight: bold\">0.001000</span>\n",
       "</pre>\n"
      ],
      "text/plain": [
       "Learning Rate: \u001b[1;36m0.001000\u001b[0m\n"
      ]
     },
     "metadata": {},
     "output_type": "display_data"
    },
    {
     "data": {
      "text/html": [
       "<pre style=\"white-space:pre;overflow-x:auto;line-height:normal;font-family:Menlo,'DejaVu Sans Mono',consolas,'Courier New',monospace\">Validation Score: <span style=\"color: #008080; text-decoration-color: #008080; font-weight: bold\">0.5825</span>\n",
       "</pre>\n"
      ],
      "text/plain": [
       "Validation Score: \u001b[1;36m0.5825\u001b[0m\n"
      ]
     },
     "metadata": {},
     "output_type": "display_data"
    },
    {
     "name": "stderr",
     "output_type": "stream",
     "text": [
      "Epoch 8/50: 100%|██████████| 363/363 [00:05<00:00, 67.41it/s]\n"
     ]
    },
    {
     "data": {
      "text/html": [
       "<pre style=\"white-space:pre;overflow-x:auto;line-height:normal;font-family:Menlo,'DejaVu Sans Mono',consolas,'Courier New',monospace\">Epoch <span style=\"color: #008080; text-decoration-color: #008080; font-weight: bold\">8</span>/<span style=\"color: #008080; text-decoration-color: #008080; font-weight: bold\">50</span>\n",
       "</pre>\n"
      ],
      "text/plain": [
       "Epoch \u001b[1;36m8\u001b[0m/\u001b[1;36m50\u001b[0m\n"
      ]
     },
     "metadata": {},
     "output_type": "display_data"
    },
    {
     "data": {
      "text/html": [
       "<pre style=\"white-space:pre;overflow-x:auto;line-height:normal;font-family:Menlo,'DejaVu Sans Mono',consolas,'Courier New',monospace\">Train Loss: <span style=\"color: #008080; text-decoration-color: #008080; font-weight: bold\">677.9714</span>, Val Loss: <span style=\"color: #008080; text-decoration-color: #008080; font-weight: bold\">839.9335</span>\n",
       "</pre>\n"
      ],
      "text/plain": [
       "Train Loss: \u001b[1;36m677.9714\u001b[0m, Val Loss: \u001b[1;36m839.9335\u001b[0m\n"
      ]
     },
     "metadata": {},
     "output_type": "display_data"
    },
    {
     "data": {
      "text/html": [
       "<pre style=\"white-space:pre;overflow-x:auto;line-height:normal;font-family:Menlo,'DejaVu Sans Mono',consolas,'Courier New',monospace\">Learning Rate: <span style=\"color: #008080; text-decoration-color: #008080; font-weight: bold\">0.001000</span>\n",
       "</pre>\n"
      ],
      "text/plain": [
       "Learning Rate: \u001b[1;36m0.001000\u001b[0m\n"
      ]
     },
     "metadata": {},
     "output_type": "display_data"
    },
    {
     "data": {
      "text/html": [
       "<pre style=\"white-space:pre;overflow-x:auto;line-height:normal;font-family:Menlo,'DejaVu Sans Mono',consolas,'Courier New',monospace\">Validation Score: <span style=\"color: #008080; text-decoration-color: #008080; font-weight: bold\">0.5883</span>\n",
       "</pre>\n"
      ],
      "text/plain": [
       "Validation Score: \u001b[1;36m0.5883\u001b[0m\n"
      ]
     },
     "metadata": {},
     "output_type": "display_data"
    },
    {
     "name": "stderr",
     "output_type": "stream",
     "text": [
      "Epoch 9/50: 100%|██████████| 363/363 [00:05<00:00, 66.13it/s]\n"
     ]
    },
    {
     "data": {
      "text/html": [
       "<pre style=\"white-space:pre;overflow-x:auto;line-height:normal;font-family:Menlo,'DejaVu Sans Mono',consolas,'Courier New',monospace\">Epoch <span style=\"color: #008080; text-decoration-color: #008080; font-weight: bold\">9</span>/<span style=\"color: #008080; text-decoration-color: #008080; font-weight: bold\">50</span>\n",
       "</pre>\n"
      ],
      "text/plain": [
       "Epoch \u001b[1;36m9\u001b[0m/\u001b[1;36m50\u001b[0m\n"
      ]
     },
     "metadata": {},
     "output_type": "display_data"
    },
    {
     "data": {
      "text/html": [
       "<pre style=\"white-space:pre;overflow-x:auto;line-height:normal;font-family:Menlo,'DejaVu Sans Mono',consolas,'Courier New',monospace\">Train Loss: <span style=\"color: #008080; text-decoration-color: #008080; font-weight: bold\">651.2214</span>, Val Loss: <span style=\"color: #008080; text-decoration-color: #008080; font-weight: bold\">810.0734</span>\n",
       "</pre>\n"
      ],
      "text/plain": [
       "Train Loss: \u001b[1;36m651.2214\u001b[0m, Val Loss: \u001b[1;36m810.0734\u001b[0m\n"
      ]
     },
     "metadata": {},
     "output_type": "display_data"
    },
    {
     "data": {
      "text/html": [
       "<pre style=\"white-space:pre;overflow-x:auto;line-height:normal;font-family:Menlo,'DejaVu Sans Mono',consolas,'Courier New',monospace\">Learning Rate: <span style=\"color: #008080; text-decoration-color: #008080; font-weight: bold\">0.001000</span>\n",
       "</pre>\n"
      ],
      "text/plain": [
       "Learning Rate: \u001b[1;36m0.001000\u001b[0m\n"
      ]
     },
     "metadata": {},
     "output_type": "display_data"
    },
    {
     "data": {
      "text/html": [
       "<pre style=\"white-space:pre;overflow-x:auto;line-height:normal;font-family:Menlo,'DejaVu Sans Mono',consolas,'Courier New',monospace\">Validation Score: <span style=\"color: #008080; text-decoration-color: #008080; font-weight: bold\">0.6045</span>\n",
       "</pre>\n"
      ],
      "text/plain": [
       "Validation Score: \u001b[1;36m0.6045\u001b[0m\n"
      ]
     },
     "metadata": {},
     "output_type": "display_data"
    },
    {
     "data": {
      "text/html": [
       "<pre style=\"white-space:pre;overflow-x:auto;line-height:normal;font-family:Menlo,'DejaVu Sans Mono',consolas,'Courier New',monospace\">New best model found with score: <span style=\"color: #008080; text-decoration-color: #008080; font-weight: bold\">0.6045</span>\n",
       "</pre>\n"
      ],
      "text/plain": [
       "New best model found with score: \u001b[1;36m0.6045\u001b[0m\n"
      ]
     },
     "metadata": {},
     "output_type": "display_data"
    },
    {
     "name": "stderr",
     "output_type": "stream",
     "text": [
      "Epoch 10/50: 100%|██████████| 363/363 [00:05<00:00, 65.99it/s]\n"
     ]
    },
    {
     "data": {
      "text/html": [
       "<pre style=\"white-space:pre;overflow-x:auto;line-height:normal;font-family:Menlo,'DejaVu Sans Mono',consolas,'Courier New',monospace\">Epoch <span style=\"color: #008080; text-decoration-color: #008080; font-weight: bold\">10</span>/<span style=\"color: #008080; text-decoration-color: #008080; font-weight: bold\">50</span>\n",
       "</pre>\n"
      ],
      "text/plain": [
       "Epoch \u001b[1;36m10\u001b[0m/\u001b[1;36m50\u001b[0m\n"
      ]
     },
     "metadata": {},
     "output_type": "display_data"
    },
    {
     "data": {
      "text/html": [
       "<pre style=\"white-space:pre;overflow-x:auto;line-height:normal;font-family:Menlo,'DejaVu Sans Mono',consolas,'Courier New',monospace\">Train Loss: <span style=\"color: #008080; text-decoration-color: #008080; font-weight: bold\">630.6176</span>, Val Loss: <span style=\"color: #008080; text-decoration-color: #008080; font-weight: bold\">789.1264</span>\n",
       "</pre>\n"
      ],
      "text/plain": [
       "Train Loss: \u001b[1;36m630.6176\u001b[0m, Val Loss: \u001b[1;36m789.1264\u001b[0m\n"
      ]
     },
     "metadata": {},
     "output_type": "display_data"
    },
    {
     "data": {
      "text/html": [
       "<pre style=\"white-space:pre;overflow-x:auto;line-height:normal;font-family:Menlo,'DejaVu Sans Mono',consolas,'Courier New',monospace\">Learning Rate: <span style=\"color: #008080; text-decoration-color: #008080; font-weight: bold\">0.001000</span>\n",
       "</pre>\n"
      ],
      "text/plain": [
       "Learning Rate: \u001b[1;36m0.001000\u001b[0m\n"
      ]
     },
     "metadata": {},
     "output_type": "display_data"
    },
    {
     "data": {
      "text/html": [
       "<pre style=\"white-space:pre;overflow-x:auto;line-height:normal;font-family:Menlo,'DejaVu Sans Mono',consolas,'Courier New',monospace\">Validation Score: <span style=\"color: #008080; text-decoration-color: #008080; font-weight: bold\">0.5958</span>\n",
       "</pre>\n"
      ],
      "text/plain": [
       "Validation Score: \u001b[1;36m0.5958\u001b[0m\n"
      ]
     },
     "metadata": {},
     "output_type": "display_data"
    },
    {
     "name": "stderr",
     "output_type": "stream",
     "text": [
      "Epoch 11/50: 100%|██████████| 363/363 [00:05<00:00, 65.66it/s]\n"
     ]
    },
    {
     "data": {
      "text/html": [
       "<pre style=\"white-space:pre;overflow-x:auto;line-height:normal;font-family:Menlo,'DejaVu Sans Mono',consolas,'Courier New',monospace\">Epoch <span style=\"color: #008080; text-decoration-color: #008080; font-weight: bold\">11</span>/<span style=\"color: #008080; text-decoration-color: #008080; font-weight: bold\">50</span>\n",
       "</pre>\n"
      ],
      "text/plain": [
       "Epoch \u001b[1;36m11\u001b[0m/\u001b[1;36m50\u001b[0m\n"
      ]
     },
     "metadata": {},
     "output_type": "display_data"
    },
    {
     "data": {
      "text/html": [
       "<pre style=\"white-space:pre;overflow-x:auto;line-height:normal;font-family:Menlo,'DejaVu Sans Mono',consolas,'Courier New',monospace\">Train Loss: <span style=\"color: #008080; text-decoration-color: #008080; font-weight: bold\">609.9795</span>, Val Loss: <span style=\"color: #008080; text-decoration-color: #008080; font-weight: bold\">811.0209</span>\n",
       "</pre>\n"
      ],
      "text/plain": [
       "Train Loss: \u001b[1;36m609.9795\u001b[0m, Val Loss: \u001b[1;36m811.0209\u001b[0m\n"
      ]
     },
     "metadata": {},
     "output_type": "display_data"
    },
    {
     "data": {
      "text/html": [
       "<pre style=\"white-space:pre;overflow-x:auto;line-height:normal;font-family:Menlo,'DejaVu Sans Mono',consolas,'Courier New',monospace\">Learning Rate: <span style=\"color: #008080; text-decoration-color: #008080; font-weight: bold\">0.001000</span>\n",
       "</pre>\n"
      ],
      "text/plain": [
       "Learning Rate: \u001b[1;36m0.001000\u001b[0m\n"
      ]
     },
     "metadata": {},
     "output_type": "display_data"
    },
    {
     "data": {
      "text/html": [
       "<pre style=\"white-space:pre;overflow-x:auto;line-height:normal;font-family:Menlo,'DejaVu Sans Mono',consolas,'Courier New',monospace\">Validation Score: <span style=\"color: #008080; text-decoration-color: #008080; font-weight: bold\">0.6132</span>\n",
       "</pre>\n"
      ],
      "text/plain": [
       "Validation Score: \u001b[1;36m0.6132\u001b[0m\n"
      ]
     },
     "metadata": {},
     "output_type": "display_data"
    },
    {
     "data": {
      "text/html": [
       "<pre style=\"white-space:pre;overflow-x:auto;line-height:normal;font-family:Menlo,'DejaVu Sans Mono',consolas,'Courier New',monospace\">New best model found with score: <span style=\"color: #008080; text-decoration-color: #008080; font-weight: bold\">0.6132</span>\n",
       "</pre>\n"
      ],
      "text/plain": [
       "New best model found with score: \u001b[1;36m0.6132\u001b[0m\n"
      ]
     },
     "metadata": {},
     "output_type": "display_data"
    },
    {
     "name": "stderr",
     "output_type": "stream",
     "text": [
      "Epoch 12/50: 100%|██████████| 363/363 [00:05<00:00, 65.82it/s]\n"
     ]
    },
    {
     "data": {
      "text/html": [
       "<pre style=\"white-space:pre;overflow-x:auto;line-height:normal;font-family:Menlo,'DejaVu Sans Mono',consolas,'Courier New',monospace\">Epoch <span style=\"color: #008080; text-decoration-color: #008080; font-weight: bold\">12</span>/<span style=\"color: #008080; text-decoration-color: #008080; font-weight: bold\">50</span>\n",
       "</pre>\n"
      ],
      "text/plain": [
       "Epoch \u001b[1;36m12\u001b[0m/\u001b[1;36m50\u001b[0m\n"
      ]
     },
     "metadata": {},
     "output_type": "display_data"
    },
    {
     "data": {
      "text/html": [
       "<pre style=\"white-space:pre;overflow-x:auto;line-height:normal;font-family:Menlo,'DejaVu Sans Mono',consolas,'Courier New',monospace\">Train Loss: <span style=\"color: #008080; text-decoration-color: #008080; font-weight: bold\">599.8163</span>, Val Loss: <span style=\"color: #008080; text-decoration-color: #008080; font-weight: bold\">802.8223</span>\n",
       "</pre>\n"
      ],
      "text/plain": [
       "Train Loss: \u001b[1;36m599.8163\u001b[0m, Val Loss: \u001b[1;36m802.8223\u001b[0m\n"
      ]
     },
     "metadata": {},
     "output_type": "display_data"
    },
    {
     "data": {
      "text/html": [
       "<pre style=\"white-space:pre;overflow-x:auto;line-height:normal;font-family:Menlo,'DejaVu Sans Mono',consolas,'Courier New',monospace\">Learning Rate: <span style=\"color: #008080; text-decoration-color: #008080; font-weight: bold\">0.001000</span>\n",
       "</pre>\n"
      ],
      "text/plain": [
       "Learning Rate: \u001b[1;36m0.001000\u001b[0m\n"
      ]
     },
     "metadata": {},
     "output_type": "display_data"
    },
    {
     "data": {
      "text/html": [
       "<pre style=\"white-space:pre;overflow-x:auto;line-height:normal;font-family:Menlo,'DejaVu Sans Mono',consolas,'Courier New',monospace\">Validation Score: <span style=\"color: #008080; text-decoration-color: #008080; font-weight: bold\">0.5956</span>\n",
       "</pre>\n"
      ],
      "text/plain": [
       "Validation Score: \u001b[1;36m0.5956\u001b[0m\n"
      ]
     },
     "metadata": {},
     "output_type": "display_data"
    },
    {
     "name": "stderr",
     "output_type": "stream",
     "text": [
      "Epoch 13/50: 100%|██████████| 363/363 [00:05<00:00, 66.01it/s]\n"
     ]
    },
    {
     "data": {
      "text/html": [
       "<pre style=\"white-space:pre;overflow-x:auto;line-height:normal;font-family:Menlo,'DejaVu Sans Mono',consolas,'Courier New',monospace\">Epoch <span style=\"color: #008080; text-decoration-color: #008080; font-weight: bold\">13</span>/<span style=\"color: #008080; text-decoration-color: #008080; font-weight: bold\">50</span>\n",
       "</pre>\n"
      ],
      "text/plain": [
       "Epoch \u001b[1;36m13\u001b[0m/\u001b[1;36m50\u001b[0m\n"
      ]
     },
     "metadata": {},
     "output_type": "display_data"
    },
    {
     "data": {
      "text/html": [
       "<pre style=\"white-space:pre;overflow-x:auto;line-height:normal;font-family:Menlo,'DejaVu Sans Mono',consolas,'Courier New',monospace\">Train Loss: <span style=\"color: #008080; text-decoration-color: #008080; font-weight: bold\">589.4541</span>, Val Loss: <span style=\"color: #008080; text-decoration-color: #008080; font-weight: bold\">786.9975</span>\n",
       "</pre>\n"
      ],
      "text/plain": [
       "Train Loss: \u001b[1;36m589.4541\u001b[0m, Val Loss: \u001b[1;36m786.9975\u001b[0m\n"
      ]
     },
     "metadata": {},
     "output_type": "display_data"
    },
    {
     "data": {
      "text/html": [
       "<pre style=\"white-space:pre;overflow-x:auto;line-height:normal;font-family:Menlo,'DejaVu Sans Mono',consolas,'Courier New',monospace\">Learning Rate: <span style=\"color: #008080; text-decoration-color: #008080; font-weight: bold\">0.001000</span>\n",
       "</pre>\n"
      ],
      "text/plain": [
       "Learning Rate: \u001b[1;36m0.001000\u001b[0m\n"
      ]
     },
     "metadata": {},
     "output_type": "display_data"
    },
    {
     "data": {
      "text/html": [
       "<pre style=\"white-space:pre;overflow-x:auto;line-height:normal;font-family:Menlo,'DejaVu Sans Mono',consolas,'Courier New',monospace\">Validation Score: <span style=\"color: #008080; text-decoration-color: #008080; font-weight: bold\">0.6076</span>\n",
       "</pre>\n"
      ],
      "text/plain": [
       "Validation Score: \u001b[1;36m0.6076\u001b[0m\n"
      ]
     },
     "metadata": {},
     "output_type": "display_data"
    },
    {
     "name": "stderr",
     "output_type": "stream",
     "text": [
      "Epoch 14/50: 100%|██████████| 363/363 [00:05<00:00, 64.76it/s]\n"
     ]
    },
    {
     "data": {
      "text/html": [
       "<pre style=\"white-space:pre;overflow-x:auto;line-height:normal;font-family:Menlo,'DejaVu Sans Mono',consolas,'Courier New',monospace\">Epoch <span style=\"color: #008080; text-decoration-color: #008080; font-weight: bold\">14</span>/<span style=\"color: #008080; text-decoration-color: #008080; font-weight: bold\">50</span>\n",
       "</pre>\n"
      ],
      "text/plain": [
       "Epoch \u001b[1;36m14\u001b[0m/\u001b[1;36m50\u001b[0m\n"
      ]
     },
     "metadata": {},
     "output_type": "display_data"
    },
    {
     "data": {
      "text/html": [
       "<pre style=\"white-space:pre;overflow-x:auto;line-height:normal;font-family:Menlo,'DejaVu Sans Mono',consolas,'Courier New',monospace\">Train Loss: <span style=\"color: #008080; text-decoration-color: #008080; font-weight: bold\">581.2556</span>, Val Loss: <span style=\"color: #008080; text-decoration-color: #008080; font-weight: bold\">805.6742</span>\n",
       "</pre>\n"
      ],
      "text/plain": [
       "Train Loss: \u001b[1;36m581.2556\u001b[0m, Val Loss: \u001b[1;36m805.6742\u001b[0m\n"
      ]
     },
     "metadata": {},
     "output_type": "display_data"
    },
    {
     "data": {
      "text/html": [
       "<pre style=\"white-space:pre;overflow-x:auto;line-height:normal;font-family:Menlo,'DejaVu Sans Mono',consolas,'Courier New',monospace\">Learning Rate: <span style=\"color: #008080; text-decoration-color: #008080; font-weight: bold\">0.001000</span>\n",
       "</pre>\n"
      ],
      "text/plain": [
       "Learning Rate: \u001b[1;36m0.001000\u001b[0m\n"
      ]
     },
     "metadata": {},
     "output_type": "display_data"
    },
    {
     "data": {
      "text/html": [
       "<pre style=\"white-space:pre;overflow-x:auto;line-height:normal;font-family:Menlo,'DejaVu Sans Mono',consolas,'Courier New',monospace\">Validation Score: <span style=\"color: #008080; text-decoration-color: #008080; font-weight: bold\">0.6181</span>\n",
       "</pre>\n"
      ],
      "text/plain": [
       "Validation Score: \u001b[1;36m0.6181\u001b[0m\n"
      ]
     },
     "metadata": {},
     "output_type": "display_data"
    },
    {
     "data": {
      "text/html": [
       "<pre style=\"white-space:pre;overflow-x:auto;line-height:normal;font-family:Menlo,'DejaVu Sans Mono',consolas,'Courier New',monospace\">New best model found with score: <span style=\"color: #008080; text-decoration-color: #008080; font-weight: bold\">0.6181</span>\n",
       "</pre>\n"
      ],
      "text/plain": [
       "New best model found with score: \u001b[1;36m0.6181\u001b[0m\n"
      ]
     },
     "metadata": {},
     "output_type": "display_data"
    },
    {
     "name": "stderr",
     "output_type": "stream",
     "text": [
      "Epoch 15/50: 100%|██████████| 363/363 [00:05<00:00, 67.14it/s]\n"
     ]
    },
    {
     "data": {
      "text/html": [
       "<pre style=\"white-space:pre;overflow-x:auto;line-height:normal;font-family:Menlo,'DejaVu Sans Mono',consolas,'Courier New',monospace\">Epoch <span style=\"color: #008080; text-decoration-color: #008080; font-weight: bold\">15</span>/<span style=\"color: #008080; text-decoration-color: #008080; font-weight: bold\">50</span>\n",
       "</pre>\n"
      ],
      "text/plain": [
       "Epoch \u001b[1;36m15\u001b[0m/\u001b[1;36m50\u001b[0m\n"
      ]
     },
     "metadata": {},
     "output_type": "display_data"
    },
    {
     "data": {
      "text/html": [
       "<pre style=\"white-space:pre;overflow-x:auto;line-height:normal;font-family:Menlo,'DejaVu Sans Mono',consolas,'Courier New',monospace\">Train Loss: <span style=\"color: #008080; text-decoration-color: #008080; font-weight: bold\">571.5319</span>, Val Loss: <span style=\"color: #008080; text-decoration-color: #008080; font-weight: bold\">793.2202</span>\n",
       "</pre>\n"
      ],
      "text/plain": [
       "Train Loss: \u001b[1;36m571.5319\u001b[0m, Val Loss: \u001b[1;36m793.2202\u001b[0m\n"
      ]
     },
     "metadata": {},
     "output_type": "display_data"
    },
    {
     "data": {
      "text/html": [
       "<pre style=\"white-space:pre;overflow-x:auto;line-height:normal;font-family:Menlo,'DejaVu Sans Mono',consolas,'Courier New',monospace\">Learning Rate: <span style=\"color: #008080; text-decoration-color: #008080; font-weight: bold\">0.001000</span>\n",
       "</pre>\n"
      ],
      "text/plain": [
       "Learning Rate: \u001b[1;36m0.001000\u001b[0m\n"
      ]
     },
     "metadata": {},
     "output_type": "display_data"
    },
    {
     "data": {
      "text/html": [
       "<pre style=\"white-space:pre;overflow-x:auto;line-height:normal;font-family:Menlo,'DejaVu Sans Mono',consolas,'Courier New',monospace\">Validation Score: <span style=\"color: #008080; text-decoration-color: #008080; font-weight: bold\">0.6268</span>\n",
       "</pre>\n"
      ],
      "text/plain": [
       "Validation Score: \u001b[1;36m0.6268\u001b[0m\n"
      ]
     },
     "metadata": {},
     "output_type": "display_data"
    },
    {
     "data": {
      "text/html": [
       "<pre style=\"white-space:pre;overflow-x:auto;line-height:normal;font-family:Menlo,'DejaVu Sans Mono',consolas,'Courier New',monospace\">New best model found with score: <span style=\"color: #008080; text-decoration-color: #008080; font-weight: bold\">0.6268</span>\n",
       "</pre>\n"
      ],
      "text/plain": [
       "New best model found with score: \u001b[1;36m0.6268\u001b[0m\n"
      ]
     },
     "metadata": {},
     "output_type": "display_data"
    },
    {
     "name": "stderr",
     "output_type": "stream",
     "text": [
      "Epoch 16/50: 100%|██████████| 363/363 [00:05<00:00, 65.24it/s]\n"
     ]
    },
    {
     "data": {
      "text/html": [
       "<pre style=\"white-space:pre;overflow-x:auto;line-height:normal;font-family:Menlo,'DejaVu Sans Mono',consolas,'Courier New',monospace\">Epoch <span style=\"color: #008080; text-decoration-color: #008080; font-weight: bold\">16</span>/<span style=\"color: #008080; text-decoration-color: #008080; font-weight: bold\">50</span>\n",
       "</pre>\n"
      ],
      "text/plain": [
       "Epoch \u001b[1;36m16\u001b[0m/\u001b[1;36m50\u001b[0m\n"
      ]
     },
     "metadata": {},
     "output_type": "display_data"
    },
    {
     "data": {
      "text/html": [
       "<pre style=\"white-space:pre;overflow-x:auto;line-height:normal;font-family:Menlo,'DejaVu Sans Mono',consolas,'Courier New',monospace\">Train Loss: <span style=\"color: #008080; text-decoration-color: #008080; font-weight: bold\">564.7064</span>, Val Loss: <span style=\"color: #008080; text-decoration-color: #008080; font-weight: bold\">791.5318</span>\n",
       "</pre>\n"
      ],
      "text/plain": [
       "Train Loss: \u001b[1;36m564.7064\u001b[0m, Val Loss: \u001b[1;36m791.5318\u001b[0m\n"
      ]
     },
     "metadata": {},
     "output_type": "display_data"
    },
    {
     "data": {
      "text/html": [
       "<pre style=\"white-space:pre;overflow-x:auto;line-height:normal;font-family:Menlo,'DejaVu Sans Mono',consolas,'Courier New',monospace\">Learning Rate: <span style=\"color: #008080; text-decoration-color: #008080; font-weight: bold\">0.001000</span>\n",
       "</pre>\n"
      ],
      "text/plain": [
       "Learning Rate: \u001b[1;36m0.001000\u001b[0m\n"
      ]
     },
     "metadata": {},
     "output_type": "display_data"
    },
    {
     "data": {
      "text/html": [
       "<pre style=\"white-space:pre;overflow-x:auto;line-height:normal;font-family:Menlo,'DejaVu Sans Mono',consolas,'Courier New',monospace\">Validation Score: <span style=\"color: #008080; text-decoration-color: #008080; font-weight: bold\">0.6280</span>\n",
       "</pre>\n"
      ],
      "text/plain": [
       "Validation Score: \u001b[1;36m0.6280\u001b[0m\n"
      ]
     },
     "metadata": {},
     "output_type": "display_data"
    },
    {
     "data": {
      "text/html": [
       "<pre style=\"white-space:pre;overflow-x:auto;line-height:normal;font-family:Menlo,'DejaVu Sans Mono',consolas,'Courier New',monospace\">New best model found with score: <span style=\"color: #008080; text-decoration-color: #008080; font-weight: bold\">0.6280</span>\n",
       "</pre>\n"
      ],
      "text/plain": [
       "New best model found with score: \u001b[1;36m0.6280\u001b[0m\n"
      ]
     },
     "metadata": {},
     "output_type": "display_data"
    },
    {
     "name": "stderr",
     "output_type": "stream",
     "text": [
      "Epoch 17/50: 100%|██████████| 363/363 [00:05<00:00, 66.10it/s]\n"
     ]
    },
    {
     "data": {
      "text/html": [
       "<pre style=\"white-space:pre;overflow-x:auto;line-height:normal;font-family:Menlo,'DejaVu Sans Mono',consolas,'Courier New',monospace\">Epoch <span style=\"color: #008080; text-decoration-color: #008080; font-weight: bold\">17</span>/<span style=\"color: #008080; text-decoration-color: #008080; font-weight: bold\">50</span>\n",
       "</pre>\n"
      ],
      "text/plain": [
       "Epoch \u001b[1;36m17\u001b[0m/\u001b[1;36m50\u001b[0m\n"
      ]
     },
     "metadata": {},
     "output_type": "display_data"
    },
    {
     "data": {
      "text/html": [
       "<pre style=\"white-space:pre;overflow-x:auto;line-height:normal;font-family:Menlo,'DejaVu Sans Mono',consolas,'Courier New',monospace\">Train Loss: <span style=\"color: #008080; text-decoration-color: #008080; font-weight: bold\">559.2911</span>, Val Loss: <span style=\"color: #008080; text-decoration-color: #008080; font-weight: bold\">802.8400</span>\n",
       "</pre>\n"
      ],
      "text/plain": [
       "Train Loss: \u001b[1;36m559.2911\u001b[0m, Val Loss: \u001b[1;36m802.8400\u001b[0m\n"
      ]
     },
     "metadata": {},
     "output_type": "display_data"
    },
    {
     "data": {
      "text/html": [
       "<pre style=\"white-space:pre;overflow-x:auto;line-height:normal;font-family:Menlo,'DejaVu Sans Mono',consolas,'Courier New',monospace\">Learning Rate: <span style=\"color: #008080; text-decoration-color: #008080; font-weight: bold\">0.001000</span>\n",
       "</pre>\n"
      ],
      "text/plain": [
       "Learning Rate: \u001b[1;36m0.001000\u001b[0m\n"
      ]
     },
     "metadata": {},
     "output_type": "display_data"
    },
    {
     "data": {
      "text/html": [
       "<pre style=\"white-space:pre;overflow-x:auto;line-height:normal;font-family:Menlo,'DejaVu Sans Mono',consolas,'Courier New',monospace\">Validation Score: <span style=\"color: #008080; text-decoration-color: #008080; font-weight: bold\">0.6226</span>\n",
       "</pre>\n"
      ],
      "text/plain": [
       "Validation Score: \u001b[1;36m0.6226\u001b[0m\n"
      ]
     },
     "metadata": {},
     "output_type": "display_data"
    },
    {
     "name": "stderr",
     "output_type": "stream",
     "text": [
      "Epoch 18/50: 100%|██████████| 363/363 [00:05<00:00, 65.96it/s]\n"
     ]
    },
    {
     "data": {
      "text/html": [
       "<pre style=\"white-space:pre;overflow-x:auto;line-height:normal;font-family:Menlo,'DejaVu Sans Mono',consolas,'Courier New',monospace\">Epoch <span style=\"color: #008080; text-decoration-color: #008080; font-weight: bold\">18</span>/<span style=\"color: #008080; text-decoration-color: #008080; font-weight: bold\">50</span>\n",
       "</pre>\n"
      ],
      "text/plain": [
       "Epoch \u001b[1;36m18\u001b[0m/\u001b[1;36m50\u001b[0m\n"
      ]
     },
     "metadata": {},
     "output_type": "display_data"
    },
    {
     "data": {
      "text/html": [
       "<pre style=\"white-space:pre;overflow-x:auto;line-height:normal;font-family:Menlo,'DejaVu Sans Mono',consolas,'Courier New',monospace\">Train Loss: <span style=\"color: #008080; text-decoration-color: #008080; font-weight: bold\">556.0823</span>, Val Loss: <span style=\"color: #008080; text-decoration-color: #008080; font-weight: bold\">821.3578</span>\n",
       "</pre>\n"
      ],
      "text/plain": [
       "Train Loss: \u001b[1;36m556.0823\u001b[0m, Val Loss: \u001b[1;36m821.3578\u001b[0m\n"
      ]
     },
     "metadata": {},
     "output_type": "display_data"
    },
    {
     "data": {
      "text/html": [
       "<pre style=\"white-space:pre;overflow-x:auto;line-height:normal;font-family:Menlo,'DejaVu Sans Mono',consolas,'Courier New',monospace\">Learning Rate: <span style=\"color: #008080; text-decoration-color: #008080; font-weight: bold\">0.001000</span>\n",
       "</pre>\n"
      ],
      "text/plain": [
       "Learning Rate: \u001b[1;36m0.001000\u001b[0m\n"
      ]
     },
     "metadata": {},
     "output_type": "display_data"
    },
    {
     "data": {
      "text/html": [
       "<pre style=\"white-space:pre;overflow-x:auto;line-height:normal;font-family:Menlo,'DejaVu Sans Mono',consolas,'Courier New',monospace\">Validation Score: <span style=\"color: #008080; text-decoration-color: #008080; font-weight: bold\">0.6172</span>\n",
       "</pre>\n"
      ],
      "text/plain": [
       "Validation Score: \u001b[1;36m0.6172\u001b[0m\n"
      ]
     },
     "metadata": {},
     "output_type": "display_data"
    },
    {
     "name": "stderr",
     "output_type": "stream",
     "text": [
      "Epoch 19/50: 100%|██████████| 363/363 [00:05<00:00, 67.21it/s]\n"
     ]
    },
    {
     "data": {
      "text/html": [
       "<pre style=\"white-space:pre;overflow-x:auto;line-height:normal;font-family:Menlo,'DejaVu Sans Mono',consolas,'Courier New',monospace\">Epoch <span style=\"color: #008080; text-decoration-color: #008080; font-weight: bold\">19</span>/<span style=\"color: #008080; text-decoration-color: #008080; font-weight: bold\">50</span>\n",
       "</pre>\n"
      ],
      "text/plain": [
       "Epoch \u001b[1;36m19\u001b[0m/\u001b[1;36m50\u001b[0m\n"
      ]
     },
     "metadata": {},
     "output_type": "display_data"
    },
    {
     "data": {
      "text/html": [
       "<pre style=\"white-space:pre;overflow-x:auto;line-height:normal;font-family:Menlo,'DejaVu Sans Mono',consolas,'Courier New',monospace\">Train Loss: <span style=\"color: #008080; text-decoration-color: #008080; font-weight: bold\">549.0704</span>, Val Loss: <span style=\"color: #008080; text-decoration-color: #008080; font-weight: bold\">796.7348</span>\n",
       "</pre>\n"
      ],
      "text/plain": [
       "Train Loss: \u001b[1;36m549.0704\u001b[0m, Val Loss: \u001b[1;36m796.7348\u001b[0m\n"
      ]
     },
     "metadata": {},
     "output_type": "display_data"
    },
    {
     "data": {
      "text/html": [
       "<pre style=\"white-space:pre;overflow-x:auto;line-height:normal;font-family:Menlo,'DejaVu Sans Mono',consolas,'Courier New',monospace\">Learning Rate: <span style=\"color: #008080; text-decoration-color: #008080; font-weight: bold\">0.001000</span>\n",
       "</pre>\n"
      ],
      "text/plain": [
       "Learning Rate: \u001b[1;36m0.001000\u001b[0m\n"
      ]
     },
     "metadata": {},
     "output_type": "display_data"
    },
    {
     "data": {
      "text/html": [
       "<pre style=\"white-space:pre;overflow-x:auto;line-height:normal;font-family:Menlo,'DejaVu Sans Mono',consolas,'Courier New',monospace\">Validation Score: <span style=\"color: #008080; text-decoration-color: #008080; font-weight: bold\">0.6319</span>\n",
       "</pre>\n"
      ],
      "text/plain": [
       "Validation Score: \u001b[1;36m0.6319\u001b[0m\n"
      ]
     },
     "metadata": {},
     "output_type": "display_data"
    },
    {
     "data": {
      "text/html": [
       "<pre style=\"white-space:pre;overflow-x:auto;line-height:normal;font-family:Menlo,'DejaVu Sans Mono',consolas,'Courier New',monospace\">New best model found with score: <span style=\"color: #008080; text-decoration-color: #008080; font-weight: bold\">0.6319</span>\n",
       "</pre>\n"
      ],
      "text/plain": [
       "New best model found with score: \u001b[1;36m0.6319\u001b[0m\n"
      ]
     },
     "metadata": {},
     "output_type": "display_data"
    },
    {
     "name": "stderr",
     "output_type": "stream",
     "text": [
      "Epoch 20/50: 100%|██████████| 363/363 [00:05<00:00, 67.16it/s]\n"
     ]
    },
    {
     "data": {
      "text/html": [
       "<pre style=\"white-space:pre;overflow-x:auto;line-height:normal;font-family:Menlo,'DejaVu Sans Mono',consolas,'Courier New',monospace\">Epoch <span style=\"color: #008080; text-decoration-color: #008080; font-weight: bold\">20</span>/<span style=\"color: #008080; text-decoration-color: #008080; font-weight: bold\">50</span>\n",
       "</pre>\n"
      ],
      "text/plain": [
       "Epoch \u001b[1;36m20\u001b[0m/\u001b[1;36m50\u001b[0m\n"
      ]
     },
     "metadata": {},
     "output_type": "display_data"
    },
    {
     "data": {
      "text/html": [
       "<pre style=\"white-space:pre;overflow-x:auto;line-height:normal;font-family:Menlo,'DejaVu Sans Mono',consolas,'Courier New',monospace\">Train Loss: <span style=\"color: #008080; text-decoration-color: #008080; font-weight: bold\">546.4691</span>, Val Loss: <span style=\"color: #008080; text-decoration-color: #008080; font-weight: bold\">809.0830</span>\n",
       "</pre>\n"
      ],
      "text/plain": [
       "Train Loss: \u001b[1;36m546.4691\u001b[0m, Val Loss: \u001b[1;36m809.0830\u001b[0m\n"
      ]
     },
     "metadata": {},
     "output_type": "display_data"
    },
    {
     "data": {
      "text/html": [
       "<pre style=\"white-space:pre;overflow-x:auto;line-height:normal;font-family:Menlo,'DejaVu Sans Mono',consolas,'Courier New',monospace\">Learning Rate: <span style=\"color: #008080; text-decoration-color: #008080; font-weight: bold\">0.001000</span>\n",
       "</pre>\n"
      ],
      "text/plain": [
       "Learning Rate: \u001b[1;36m0.001000\u001b[0m\n"
      ]
     },
     "metadata": {},
     "output_type": "display_data"
    },
    {
     "data": {
      "text/html": [
       "<pre style=\"white-space:pre;overflow-x:auto;line-height:normal;font-family:Menlo,'DejaVu Sans Mono',consolas,'Courier New',monospace\">Validation Score: <span style=\"color: #008080; text-decoration-color: #008080; font-weight: bold\">0.6188</span>\n",
       "</pre>\n"
      ],
      "text/plain": [
       "Validation Score: \u001b[1;36m0.6188\u001b[0m\n"
      ]
     },
     "metadata": {},
     "output_type": "display_data"
    },
    {
     "name": "stderr",
     "output_type": "stream",
     "text": [
      "Epoch 21/50: 100%|██████████| 363/363 [00:05<00:00, 65.89it/s]\n"
     ]
    },
    {
     "data": {
      "text/html": [
       "<pre style=\"white-space:pre;overflow-x:auto;line-height:normal;font-family:Menlo,'DejaVu Sans Mono',consolas,'Courier New',monospace\">Epoch <span style=\"color: #008080; text-decoration-color: #008080; font-weight: bold\">21</span>/<span style=\"color: #008080; text-decoration-color: #008080; font-weight: bold\">50</span>\n",
       "</pre>\n"
      ],
      "text/plain": [
       "Epoch \u001b[1;36m21\u001b[0m/\u001b[1;36m50\u001b[0m\n"
      ]
     },
     "metadata": {},
     "output_type": "display_data"
    },
    {
     "data": {
      "text/html": [
       "<pre style=\"white-space:pre;overflow-x:auto;line-height:normal;font-family:Menlo,'DejaVu Sans Mono',consolas,'Courier New',monospace\">Train Loss: <span style=\"color: #008080; text-decoration-color: #008080; font-weight: bold\">538.7910</span>, Val Loss: <span style=\"color: #008080; text-decoration-color: #008080; font-weight: bold\">809.4430</span>\n",
       "</pre>\n"
      ],
      "text/plain": [
       "Train Loss: \u001b[1;36m538.7910\u001b[0m, Val Loss: \u001b[1;36m809.4430\u001b[0m\n"
      ]
     },
     "metadata": {},
     "output_type": "display_data"
    },
    {
     "data": {
      "text/html": [
       "<pre style=\"white-space:pre;overflow-x:auto;line-height:normal;font-family:Menlo,'DejaVu Sans Mono',consolas,'Courier New',monospace\">Learning Rate: <span style=\"color: #008080; text-decoration-color: #008080; font-weight: bold\">0.001000</span>\n",
       "</pre>\n"
      ],
      "text/plain": [
       "Learning Rate: \u001b[1;36m0.001000\u001b[0m\n"
      ]
     },
     "metadata": {},
     "output_type": "display_data"
    },
    {
     "data": {
      "text/html": [
       "<pre style=\"white-space:pre;overflow-x:auto;line-height:normal;font-family:Menlo,'DejaVu Sans Mono',consolas,'Courier New',monospace\">Validation Score: <span style=\"color: #008080; text-decoration-color: #008080; font-weight: bold\">0.6170</span>\n",
       "</pre>\n"
      ],
      "text/plain": [
       "Validation Score: \u001b[1;36m0.6170\u001b[0m\n"
      ]
     },
     "metadata": {},
     "output_type": "display_data"
    },
    {
     "name": "stderr",
     "output_type": "stream",
     "text": [
      "Epoch 22/50: 100%|██████████| 363/363 [00:05<00:00, 66.76it/s]\n"
     ]
    },
    {
     "data": {
      "text/html": [
       "<pre style=\"white-space:pre;overflow-x:auto;line-height:normal;font-family:Menlo,'DejaVu Sans Mono',consolas,'Courier New',monospace\">Epoch <span style=\"color: #008080; text-decoration-color: #008080; font-weight: bold\">22</span>/<span style=\"color: #008080; text-decoration-color: #008080; font-weight: bold\">50</span>\n",
       "</pre>\n"
      ],
      "text/plain": [
       "Epoch \u001b[1;36m22\u001b[0m/\u001b[1;36m50\u001b[0m\n"
      ]
     },
     "metadata": {},
     "output_type": "display_data"
    },
    {
     "data": {
      "text/html": [
       "<pre style=\"white-space:pre;overflow-x:auto;line-height:normal;font-family:Menlo,'DejaVu Sans Mono',consolas,'Courier New',monospace\">Train Loss: <span style=\"color: #008080; text-decoration-color: #008080; font-weight: bold\">537.0680</span>, Val Loss: <span style=\"color: #008080; text-decoration-color: #008080; font-weight: bold\">787.1374</span>\n",
       "</pre>\n"
      ],
      "text/plain": [
       "Train Loss: \u001b[1;36m537.0680\u001b[0m, Val Loss: \u001b[1;36m787.1374\u001b[0m\n"
      ]
     },
     "metadata": {},
     "output_type": "display_data"
    },
    {
     "data": {
      "text/html": [
       "<pre style=\"white-space:pre;overflow-x:auto;line-height:normal;font-family:Menlo,'DejaVu Sans Mono',consolas,'Courier New',monospace\">Learning Rate: <span style=\"color: #008080; text-decoration-color: #008080; font-weight: bold\">0.001000</span>\n",
       "</pre>\n"
      ],
      "text/plain": [
       "Learning Rate: \u001b[1;36m0.001000\u001b[0m\n"
      ]
     },
     "metadata": {},
     "output_type": "display_data"
    },
    {
     "data": {
      "text/html": [
       "<pre style=\"white-space:pre;overflow-x:auto;line-height:normal;font-family:Menlo,'DejaVu Sans Mono',consolas,'Courier New',monospace\">Validation Score: <span style=\"color: #008080; text-decoration-color: #008080; font-weight: bold\">0.6189</span>\n",
       "</pre>\n"
      ],
      "text/plain": [
       "Validation Score: \u001b[1;36m0.6189\u001b[0m\n"
      ]
     },
     "metadata": {},
     "output_type": "display_data"
    },
    {
     "name": "stderr",
     "output_type": "stream",
     "text": [
      "Epoch 23/50: 100%|██████████| 363/363 [00:05<00:00, 66.55it/s]\n"
     ]
    },
    {
     "data": {
      "text/html": [
       "<pre style=\"white-space:pre;overflow-x:auto;line-height:normal;font-family:Menlo,'DejaVu Sans Mono',consolas,'Courier New',monospace\">Epoch <span style=\"color: #008080; text-decoration-color: #008080; font-weight: bold\">23</span>/<span style=\"color: #008080; text-decoration-color: #008080; font-weight: bold\">50</span>\n",
       "</pre>\n"
      ],
      "text/plain": [
       "Epoch \u001b[1;36m23\u001b[0m/\u001b[1;36m50\u001b[0m\n"
      ]
     },
     "metadata": {},
     "output_type": "display_data"
    },
    {
     "data": {
      "text/html": [
       "<pre style=\"white-space:pre;overflow-x:auto;line-height:normal;font-family:Menlo,'DejaVu Sans Mono',consolas,'Courier New',monospace\">Train Loss: <span style=\"color: #008080; text-decoration-color: #008080; font-weight: bold\">532.8815</span>, Val Loss: <span style=\"color: #008080; text-decoration-color: #008080; font-weight: bold\">789.3323</span>\n",
       "</pre>\n"
      ],
      "text/plain": [
       "Train Loss: \u001b[1;36m532.8815\u001b[0m, Val Loss: \u001b[1;36m789.3323\u001b[0m\n"
      ]
     },
     "metadata": {},
     "output_type": "display_data"
    },
    {
     "data": {
      "text/html": [
       "<pre style=\"white-space:pre;overflow-x:auto;line-height:normal;font-family:Menlo,'DejaVu Sans Mono',consolas,'Courier New',monospace\">Learning Rate: <span style=\"color: #008080; text-decoration-color: #008080; font-weight: bold\">0.001000</span>\n",
       "</pre>\n"
      ],
      "text/plain": [
       "Learning Rate: \u001b[1;36m0.001000\u001b[0m\n"
      ]
     },
     "metadata": {},
     "output_type": "display_data"
    },
    {
     "data": {
      "text/html": [
       "<pre style=\"white-space:pre;overflow-x:auto;line-height:normal;font-family:Menlo,'DejaVu Sans Mono',consolas,'Courier New',monospace\">Validation Score: <span style=\"color: #008080; text-decoration-color: #008080; font-weight: bold\">0.6295</span>\n",
       "</pre>\n"
      ],
      "text/plain": [
       "Validation Score: \u001b[1;36m0.6295\u001b[0m\n"
      ]
     },
     "metadata": {},
     "output_type": "display_data"
    },
    {
     "name": "stderr",
     "output_type": "stream",
     "text": [
      "Epoch 24/50: 100%|██████████| 363/363 [00:05<00:00, 66.56it/s]\n"
     ]
    },
    {
     "data": {
      "text/html": [
       "<pre style=\"white-space:pre;overflow-x:auto;line-height:normal;font-family:Menlo,'DejaVu Sans Mono',consolas,'Courier New',monospace\">Epoch <span style=\"color: #008080; text-decoration-color: #008080; font-weight: bold\">24</span>/<span style=\"color: #008080; text-decoration-color: #008080; font-weight: bold\">50</span>\n",
       "</pre>\n"
      ],
      "text/plain": [
       "Epoch \u001b[1;36m24\u001b[0m/\u001b[1;36m50\u001b[0m\n"
      ]
     },
     "metadata": {},
     "output_type": "display_data"
    },
    {
     "data": {
      "text/html": [
       "<pre style=\"white-space:pre;overflow-x:auto;line-height:normal;font-family:Menlo,'DejaVu Sans Mono',consolas,'Courier New',monospace\">Train Loss: <span style=\"color: #008080; text-decoration-color: #008080; font-weight: bold\">529.9044</span>, Val Loss: <span style=\"color: #008080; text-decoration-color: #008080; font-weight: bold\">805.0705</span>\n",
       "</pre>\n"
      ],
      "text/plain": [
       "Train Loss: \u001b[1;36m529.9044\u001b[0m, Val Loss: \u001b[1;36m805.0705\u001b[0m\n"
      ]
     },
     "metadata": {},
     "output_type": "display_data"
    },
    {
     "data": {
      "text/html": [
       "<pre style=\"white-space:pre;overflow-x:auto;line-height:normal;font-family:Menlo,'DejaVu Sans Mono',consolas,'Courier New',monospace\">Learning Rate: <span style=\"color: #008080; text-decoration-color: #008080; font-weight: bold\">0.001000</span>\n",
       "</pre>\n"
      ],
      "text/plain": [
       "Learning Rate: \u001b[1;36m0.001000\u001b[0m\n"
      ]
     },
     "metadata": {},
     "output_type": "display_data"
    },
    {
     "data": {
      "text/html": [
       "<pre style=\"white-space:pre;overflow-x:auto;line-height:normal;font-family:Menlo,'DejaVu Sans Mono',consolas,'Courier New',monospace\">Validation Score: <span style=\"color: #008080; text-decoration-color: #008080; font-weight: bold\">0.6204</span>\n",
       "</pre>\n"
      ],
      "text/plain": [
       "Validation Score: \u001b[1;36m0.6204\u001b[0m\n"
      ]
     },
     "metadata": {},
     "output_type": "display_data"
    },
    {
     "name": "stderr",
     "output_type": "stream",
     "text": [
      "Epoch 25/50: 100%|██████████| 363/363 [00:05<00:00, 65.09it/s]\n"
     ]
    },
    {
     "data": {
      "text/html": [
       "<pre style=\"white-space:pre;overflow-x:auto;line-height:normal;font-family:Menlo,'DejaVu Sans Mono',consolas,'Courier New',monospace\">Epoch <span style=\"color: #008080; text-decoration-color: #008080; font-weight: bold\">25</span>/<span style=\"color: #008080; text-decoration-color: #008080; font-weight: bold\">50</span>\n",
       "</pre>\n"
      ],
      "text/plain": [
       "Epoch \u001b[1;36m25\u001b[0m/\u001b[1;36m50\u001b[0m\n"
      ]
     },
     "metadata": {},
     "output_type": "display_data"
    },
    {
     "data": {
      "text/html": [
       "<pre style=\"white-space:pre;overflow-x:auto;line-height:normal;font-family:Menlo,'DejaVu Sans Mono',consolas,'Courier New',monospace\">Train Loss: <span style=\"color: #008080; text-decoration-color: #008080; font-weight: bold\">529.6893</span>, Val Loss: <span style=\"color: #008080; text-decoration-color: #008080; font-weight: bold\">825.6092</span>\n",
       "</pre>\n"
      ],
      "text/plain": [
       "Train Loss: \u001b[1;36m529.6893\u001b[0m, Val Loss: \u001b[1;36m825.6092\u001b[0m\n"
      ]
     },
     "metadata": {},
     "output_type": "display_data"
    },
    {
     "data": {
      "text/html": [
       "<pre style=\"white-space:pre;overflow-x:auto;line-height:normal;font-family:Menlo,'DejaVu Sans Mono',consolas,'Courier New',monospace\">Learning Rate: <span style=\"color: #008080; text-decoration-color: #008080; font-weight: bold\">0.001000</span>\n",
       "</pre>\n"
      ],
      "text/plain": [
       "Learning Rate: \u001b[1;36m0.001000\u001b[0m\n"
      ]
     },
     "metadata": {},
     "output_type": "display_data"
    },
    {
     "data": {
      "text/html": [
       "<pre style=\"white-space:pre;overflow-x:auto;line-height:normal;font-family:Menlo,'DejaVu Sans Mono',consolas,'Courier New',monospace\">Validation Score: <span style=\"color: #008080; text-decoration-color: #008080; font-weight: bold\">0.6227</span>\n",
       "</pre>\n"
      ],
      "text/plain": [
       "Validation Score: \u001b[1;36m0.6227\u001b[0m\n"
      ]
     },
     "metadata": {},
     "output_type": "display_data"
    },
    {
     "name": "stderr",
     "output_type": "stream",
     "text": [
      "Epoch 26/50: 100%|██████████| 363/363 [00:05<00:00, 66.63it/s]\n"
     ]
    },
    {
     "data": {
      "text/html": [
       "<pre style=\"white-space:pre;overflow-x:auto;line-height:normal;font-family:Menlo,'DejaVu Sans Mono',consolas,'Courier New',monospace\">Epoch <span style=\"color: #008080; text-decoration-color: #008080; font-weight: bold\">26</span>/<span style=\"color: #008080; text-decoration-color: #008080; font-weight: bold\">50</span>\n",
       "</pre>\n"
      ],
      "text/plain": [
       "Epoch \u001b[1;36m26\u001b[0m/\u001b[1;36m50\u001b[0m\n"
      ]
     },
     "metadata": {},
     "output_type": "display_data"
    },
    {
     "data": {
      "text/html": [
       "<pre style=\"white-space:pre;overflow-x:auto;line-height:normal;font-family:Menlo,'DejaVu Sans Mono',consolas,'Courier New',monospace\">Train Loss: <span style=\"color: #008080; text-decoration-color: #008080; font-weight: bold\">527.7701</span>, Val Loss: <span style=\"color: #008080; text-decoration-color: #008080; font-weight: bold\">795.6338</span>\n",
       "</pre>\n"
      ],
      "text/plain": [
       "Train Loss: \u001b[1;36m527.7701\u001b[0m, Val Loss: \u001b[1;36m795.6338\u001b[0m\n"
      ]
     },
     "metadata": {},
     "output_type": "display_data"
    },
    {
     "data": {
      "text/html": [
       "<pre style=\"white-space:pre;overflow-x:auto;line-height:normal;font-family:Menlo,'DejaVu Sans Mono',consolas,'Courier New',monospace\">Learning Rate: <span style=\"color: #008080; text-decoration-color: #008080; font-weight: bold\">0.001000</span>\n",
       "</pre>\n"
      ],
      "text/plain": [
       "Learning Rate: \u001b[1;36m0.001000\u001b[0m\n"
      ]
     },
     "metadata": {},
     "output_type": "display_data"
    },
    {
     "data": {
      "text/html": [
       "<pre style=\"white-space:pre;overflow-x:auto;line-height:normal;font-family:Menlo,'DejaVu Sans Mono',consolas,'Courier New',monospace\">Validation Score: <span style=\"color: #008080; text-decoration-color: #008080; font-weight: bold\">0.6301</span>\n",
       "</pre>\n"
      ],
      "text/plain": [
       "Validation Score: \u001b[1;36m0.6301\u001b[0m\n"
      ]
     },
     "metadata": {},
     "output_type": "display_data"
    },
    {
     "name": "stderr",
     "output_type": "stream",
     "text": [
      "Epoch 27/50: 100%|██████████| 363/363 [00:05<00:00, 65.23it/s]\n"
     ]
    },
    {
     "data": {
      "text/html": [
       "<pre style=\"white-space:pre;overflow-x:auto;line-height:normal;font-family:Menlo,'DejaVu Sans Mono',consolas,'Courier New',monospace\">Epoch <span style=\"color: #008080; text-decoration-color: #008080; font-weight: bold\">27</span>/<span style=\"color: #008080; text-decoration-color: #008080; font-weight: bold\">50</span>\n",
       "</pre>\n"
      ],
      "text/plain": [
       "Epoch \u001b[1;36m27\u001b[0m/\u001b[1;36m50\u001b[0m\n"
      ]
     },
     "metadata": {},
     "output_type": "display_data"
    },
    {
     "data": {
      "text/html": [
       "<pre style=\"white-space:pre;overflow-x:auto;line-height:normal;font-family:Menlo,'DejaVu Sans Mono',consolas,'Courier New',monospace\">Train Loss: <span style=\"color: #008080; text-decoration-color: #008080; font-weight: bold\">526.3563</span>, Val Loss: <span style=\"color: #008080; text-decoration-color: #008080; font-weight: bold\">816.7855</span>\n",
       "</pre>\n"
      ],
      "text/plain": [
       "Train Loss: \u001b[1;36m526.3563\u001b[0m, Val Loss: \u001b[1;36m816.7855\u001b[0m\n"
      ]
     },
     "metadata": {},
     "output_type": "display_data"
    },
    {
     "data": {
      "text/html": [
       "<pre style=\"white-space:pre;overflow-x:auto;line-height:normal;font-family:Menlo,'DejaVu Sans Mono',consolas,'Courier New',monospace\">Learning Rate: <span style=\"color: #008080; text-decoration-color: #008080; font-weight: bold\">0.001000</span>\n",
       "</pre>\n"
      ],
      "text/plain": [
       "Learning Rate: \u001b[1;36m0.001000\u001b[0m\n"
      ]
     },
     "metadata": {},
     "output_type": "display_data"
    },
    {
     "data": {
      "text/html": [
       "<pre style=\"white-space:pre;overflow-x:auto;line-height:normal;font-family:Menlo,'DejaVu Sans Mono',consolas,'Courier New',monospace\">Validation Score: <span style=\"color: #008080; text-decoration-color: #008080; font-weight: bold\">0.6301</span>\n",
       "</pre>\n"
      ],
      "text/plain": [
       "Validation Score: \u001b[1;36m0.6301\u001b[0m\n"
      ]
     },
     "metadata": {},
     "output_type": "display_data"
    },
    {
     "name": "stderr",
     "output_type": "stream",
     "text": [
      "Epoch 28/50: 100%|██████████| 363/363 [00:05<00:00, 66.84it/s]\n"
     ]
    },
    {
     "data": {
      "text/html": [
       "<pre style=\"white-space:pre;overflow-x:auto;line-height:normal;font-family:Menlo,'DejaVu Sans Mono',consolas,'Courier New',monospace\">Epoch <span style=\"color: #008080; text-decoration-color: #008080; font-weight: bold\">28</span>/<span style=\"color: #008080; text-decoration-color: #008080; font-weight: bold\">50</span>\n",
       "</pre>\n"
      ],
      "text/plain": [
       "Epoch \u001b[1;36m28\u001b[0m/\u001b[1;36m50\u001b[0m\n"
      ]
     },
     "metadata": {},
     "output_type": "display_data"
    },
    {
     "data": {
      "text/html": [
       "<pre style=\"white-space:pre;overflow-x:auto;line-height:normal;font-family:Menlo,'DejaVu Sans Mono',consolas,'Courier New',monospace\">Train Loss: <span style=\"color: #008080; text-decoration-color: #008080; font-weight: bold\">522.0211</span>, Val Loss: <span style=\"color: #008080; text-decoration-color: #008080; font-weight: bold\">802.8984</span>\n",
       "</pre>\n"
      ],
      "text/plain": [
       "Train Loss: \u001b[1;36m522.0211\u001b[0m, Val Loss: \u001b[1;36m802.8984\u001b[0m\n"
      ]
     },
     "metadata": {},
     "output_type": "display_data"
    },
    {
     "data": {
      "text/html": [
       "<pre style=\"white-space:pre;overflow-x:auto;line-height:normal;font-family:Menlo,'DejaVu Sans Mono',consolas,'Courier New',monospace\">Learning Rate: <span style=\"color: #008080; text-decoration-color: #008080; font-weight: bold\">0.001000</span>\n",
       "</pre>\n"
      ],
      "text/plain": [
       "Learning Rate: \u001b[1;36m0.001000\u001b[0m\n"
      ]
     },
     "metadata": {},
     "output_type": "display_data"
    },
    {
     "data": {
      "text/html": [
       "<pre style=\"white-space:pre;overflow-x:auto;line-height:normal;font-family:Menlo,'DejaVu Sans Mono',consolas,'Courier New',monospace\">Validation Score: <span style=\"color: #008080; text-decoration-color: #008080; font-weight: bold\">0.6098</span>\n",
       "</pre>\n"
      ],
      "text/plain": [
       "Validation Score: \u001b[1;36m0.6098\u001b[0m\n"
      ]
     },
     "metadata": {},
     "output_type": "display_data"
    },
    {
     "name": "stderr",
     "output_type": "stream",
     "text": [
      "Epoch 29/50: 100%|██████████| 363/363 [00:05<00:00, 67.08it/s]\n"
     ]
    },
    {
     "data": {
      "text/html": [
       "<pre style=\"white-space:pre;overflow-x:auto;line-height:normal;font-family:Menlo,'DejaVu Sans Mono',consolas,'Courier New',monospace\">Epoch <span style=\"color: #008080; text-decoration-color: #008080; font-weight: bold\">29</span>/<span style=\"color: #008080; text-decoration-color: #008080; font-weight: bold\">50</span>\n",
       "</pre>\n"
      ],
      "text/plain": [
       "Epoch \u001b[1;36m29\u001b[0m/\u001b[1;36m50\u001b[0m\n"
      ]
     },
     "metadata": {},
     "output_type": "display_data"
    },
    {
     "data": {
      "text/html": [
       "<pre style=\"white-space:pre;overflow-x:auto;line-height:normal;font-family:Menlo,'DejaVu Sans Mono',consolas,'Courier New',monospace\">Train Loss: <span style=\"color: #008080; text-decoration-color: #008080; font-weight: bold\">519.1045</span>, Val Loss: <span style=\"color: #008080; text-decoration-color: #008080; font-weight: bold\">792.4753</span>\n",
       "</pre>\n"
      ],
      "text/plain": [
       "Train Loss: \u001b[1;36m519.1045\u001b[0m, Val Loss: \u001b[1;36m792.4753\u001b[0m\n"
      ]
     },
     "metadata": {},
     "output_type": "display_data"
    },
    {
     "data": {
      "text/html": [
       "<pre style=\"white-space:pre;overflow-x:auto;line-height:normal;font-family:Menlo,'DejaVu Sans Mono',consolas,'Courier New',monospace\">Learning Rate: <span style=\"color: #008080; text-decoration-color: #008080; font-weight: bold\">0.001000</span>\n",
       "</pre>\n"
      ],
      "text/plain": [
       "Learning Rate: \u001b[1;36m0.001000\u001b[0m\n"
      ]
     },
     "metadata": {},
     "output_type": "display_data"
    },
    {
     "data": {
      "text/html": [
       "<pre style=\"white-space:pre;overflow-x:auto;line-height:normal;font-family:Menlo,'DejaVu Sans Mono',consolas,'Courier New',monospace\">Validation Score: <span style=\"color: #008080; text-decoration-color: #008080; font-weight: bold\">0.6296</span>\n",
       "</pre>\n"
      ],
      "text/plain": [
       "Validation Score: \u001b[1;36m0.6296\u001b[0m\n"
      ]
     },
     "metadata": {},
     "output_type": "display_data"
    },
    {
     "name": "stderr",
     "output_type": "stream",
     "text": [
      "Epoch 30/50: 100%|██████████| 363/363 [00:05<00:00, 69.11it/s]\n"
     ]
    },
    {
     "data": {
      "text/html": [
       "<pre style=\"white-space:pre;overflow-x:auto;line-height:normal;font-family:Menlo,'DejaVu Sans Mono',consolas,'Courier New',monospace\">Epoch <span style=\"color: #008080; text-decoration-color: #008080; font-weight: bold\">30</span>/<span style=\"color: #008080; text-decoration-color: #008080; font-weight: bold\">50</span>\n",
       "</pre>\n"
      ],
      "text/plain": [
       "Epoch \u001b[1;36m30\u001b[0m/\u001b[1;36m50\u001b[0m\n"
      ]
     },
     "metadata": {},
     "output_type": "display_data"
    },
    {
     "data": {
      "text/html": [
       "<pre style=\"white-space:pre;overflow-x:auto;line-height:normal;font-family:Menlo,'DejaVu Sans Mono',consolas,'Courier New',monospace\">Train Loss: <span style=\"color: #008080; text-decoration-color: #008080; font-weight: bold\">517.8266</span>, Val Loss: <span style=\"color: #008080; text-decoration-color: #008080; font-weight: bold\">812.4098</span>\n",
       "</pre>\n"
      ],
      "text/plain": [
       "Train Loss: \u001b[1;36m517.8266\u001b[0m, Val Loss: \u001b[1;36m812.4098\u001b[0m\n"
      ]
     },
     "metadata": {},
     "output_type": "display_data"
    },
    {
     "data": {
      "text/html": [
       "<pre style=\"white-space:pre;overflow-x:auto;line-height:normal;font-family:Menlo,'DejaVu Sans Mono',consolas,'Courier New',monospace\">Learning Rate: <span style=\"color: #008080; text-decoration-color: #008080; font-weight: bold\">0.001000</span>\n",
       "</pre>\n"
      ],
      "text/plain": [
       "Learning Rate: \u001b[1;36m0.001000\u001b[0m\n"
      ]
     },
     "metadata": {},
     "output_type": "display_data"
    },
    {
     "data": {
      "text/html": [
       "<pre style=\"white-space:pre;overflow-x:auto;line-height:normal;font-family:Menlo,'DejaVu Sans Mono',consolas,'Courier New',monospace\">Validation Score: <span style=\"color: #008080; text-decoration-color: #008080; font-weight: bold\">0.6211</span>\n",
       "</pre>\n"
      ],
      "text/plain": [
       "Validation Score: \u001b[1;36m0.6211\u001b[0m\n"
      ]
     },
     "metadata": {},
     "output_type": "display_data"
    },
    {
     "name": "stderr",
     "output_type": "stream",
     "text": [
      "Epoch 31/50: 100%|██████████| 363/363 [00:05<00:00, 65.30it/s]\n"
     ]
    },
    {
     "data": {
      "text/html": [
       "<pre style=\"white-space:pre;overflow-x:auto;line-height:normal;font-family:Menlo,'DejaVu Sans Mono',consolas,'Courier New',monospace\">Epoch <span style=\"color: #008080; text-decoration-color: #008080; font-weight: bold\">31</span>/<span style=\"color: #008080; text-decoration-color: #008080; font-weight: bold\">50</span>\n",
       "</pre>\n"
      ],
      "text/plain": [
       "Epoch \u001b[1;36m31\u001b[0m/\u001b[1;36m50\u001b[0m\n"
      ]
     },
     "metadata": {},
     "output_type": "display_data"
    },
    {
     "data": {
      "text/html": [
       "<pre style=\"white-space:pre;overflow-x:auto;line-height:normal;font-family:Menlo,'DejaVu Sans Mono',consolas,'Courier New',monospace\">Train Loss: <span style=\"color: #008080; text-decoration-color: #008080; font-weight: bold\">513.7673</span>, Val Loss: <span style=\"color: #008080; text-decoration-color: #008080; font-weight: bold\">815.5479</span>\n",
       "</pre>\n"
      ],
      "text/plain": [
       "Train Loss: \u001b[1;36m513.7673\u001b[0m, Val Loss: \u001b[1;36m815.5479\u001b[0m\n"
      ]
     },
     "metadata": {},
     "output_type": "display_data"
    },
    {
     "data": {
      "text/html": [
       "<pre style=\"white-space:pre;overflow-x:auto;line-height:normal;font-family:Menlo,'DejaVu Sans Mono',consolas,'Courier New',monospace\">Learning Rate: <span style=\"color: #008080; text-decoration-color: #008080; font-weight: bold\">0.001000</span>\n",
       "</pre>\n"
      ],
      "text/plain": [
       "Learning Rate: \u001b[1;36m0.001000\u001b[0m\n"
      ]
     },
     "metadata": {},
     "output_type": "display_data"
    },
    {
     "data": {
      "text/html": [
       "<pre style=\"white-space:pre;overflow-x:auto;line-height:normal;font-family:Menlo,'DejaVu Sans Mono',consolas,'Courier New',monospace\">Validation Score: <span style=\"color: #008080; text-decoration-color: #008080; font-weight: bold\">0.6294</span>\n",
       "</pre>\n"
      ],
      "text/plain": [
       "Validation Score: \u001b[1;36m0.6294\u001b[0m\n"
      ]
     },
     "metadata": {},
     "output_type": "display_data"
    },
    {
     "name": "stderr",
     "output_type": "stream",
     "text": [
      "Epoch 32/50: 100%|██████████| 363/363 [00:05<00:00, 66.76it/s]\n"
     ]
    },
    {
     "data": {
      "text/html": [
       "<pre style=\"white-space:pre;overflow-x:auto;line-height:normal;font-family:Menlo,'DejaVu Sans Mono',consolas,'Courier New',monospace\">Epoch <span style=\"color: #008080; text-decoration-color: #008080; font-weight: bold\">32</span>/<span style=\"color: #008080; text-decoration-color: #008080; font-weight: bold\">50</span>\n",
       "</pre>\n"
      ],
      "text/plain": [
       "Epoch \u001b[1;36m32\u001b[0m/\u001b[1;36m50\u001b[0m\n"
      ]
     },
     "metadata": {},
     "output_type": "display_data"
    },
    {
     "data": {
      "text/html": [
       "<pre style=\"white-space:pre;overflow-x:auto;line-height:normal;font-family:Menlo,'DejaVu Sans Mono',consolas,'Courier New',monospace\">Train Loss: <span style=\"color: #008080; text-decoration-color: #008080; font-weight: bold\">513.7279</span>, Val Loss: <span style=\"color: #008080; text-decoration-color: #008080; font-weight: bold\">795.4526</span>\n",
       "</pre>\n"
      ],
      "text/plain": [
       "Train Loss: \u001b[1;36m513.7279\u001b[0m, Val Loss: \u001b[1;36m795.4526\u001b[0m\n"
      ]
     },
     "metadata": {},
     "output_type": "display_data"
    },
    {
     "data": {
      "text/html": [
       "<pre style=\"white-space:pre;overflow-x:auto;line-height:normal;font-family:Menlo,'DejaVu Sans Mono',consolas,'Courier New',monospace\">Learning Rate: <span style=\"color: #008080; text-decoration-color: #008080; font-weight: bold\">0.001000</span>\n",
       "</pre>\n"
      ],
      "text/plain": [
       "Learning Rate: \u001b[1;36m0.001000\u001b[0m\n"
      ]
     },
     "metadata": {},
     "output_type": "display_data"
    },
    {
     "data": {
      "text/html": [
       "<pre style=\"white-space:pre;overflow-x:auto;line-height:normal;font-family:Menlo,'DejaVu Sans Mono',consolas,'Courier New',monospace\">Validation Score: <span style=\"color: #008080; text-decoration-color: #008080; font-weight: bold\">0.6254</span>\n",
       "</pre>\n"
      ],
      "text/plain": [
       "Validation Score: \u001b[1;36m0.6254\u001b[0m\n"
      ]
     },
     "metadata": {},
     "output_type": "display_data"
    },
    {
     "name": "stderr",
     "output_type": "stream",
     "text": [
      "Epoch 33/50: 100%|██████████| 363/363 [00:05<00:00, 66.33it/s]\n"
     ]
    },
    {
     "data": {
      "text/html": [
       "<pre style=\"white-space:pre;overflow-x:auto;line-height:normal;font-family:Menlo,'DejaVu Sans Mono',consolas,'Courier New',monospace\">Epoch <span style=\"color: #008080; text-decoration-color: #008080; font-weight: bold\">33</span>/<span style=\"color: #008080; text-decoration-color: #008080; font-weight: bold\">50</span>\n",
       "</pre>\n"
      ],
      "text/plain": [
       "Epoch \u001b[1;36m33\u001b[0m/\u001b[1;36m50\u001b[0m\n"
      ]
     },
     "metadata": {},
     "output_type": "display_data"
    },
    {
     "data": {
      "text/html": [
       "<pre style=\"white-space:pre;overflow-x:auto;line-height:normal;font-family:Menlo,'DejaVu Sans Mono',consolas,'Courier New',monospace\">Train Loss: <span style=\"color: #008080; text-decoration-color: #008080; font-weight: bold\">512.8518</span>, Val Loss: <span style=\"color: #008080; text-decoration-color: #008080; font-weight: bold\">825.7822</span>\n",
       "</pre>\n"
      ],
      "text/plain": [
       "Train Loss: \u001b[1;36m512.8518\u001b[0m, Val Loss: \u001b[1;36m825.7822\u001b[0m\n"
      ]
     },
     "metadata": {},
     "output_type": "display_data"
    },
    {
     "data": {
      "text/html": [
       "<pre style=\"white-space:pre;overflow-x:auto;line-height:normal;font-family:Menlo,'DejaVu Sans Mono',consolas,'Courier New',monospace\">Learning Rate: <span style=\"color: #008080; text-decoration-color: #008080; font-weight: bold\">0.001000</span>\n",
       "</pre>\n"
      ],
      "text/plain": [
       "Learning Rate: \u001b[1;36m0.001000\u001b[0m\n"
      ]
     },
     "metadata": {},
     "output_type": "display_data"
    },
    {
     "data": {
      "text/html": [
       "<pre style=\"white-space:pre;overflow-x:auto;line-height:normal;font-family:Menlo,'DejaVu Sans Mono',consolas,'Courier New',monospace\">Validation Score: <span style=\"color: #008080; text-decoration-color: #008080; font-weight: bold\">0.6226</span>\n",
       "</pre>\n"
      ],
      "text/plain": [
       "Validation Score: \u001b[1;36m0.6226\u001b[0m\n"
      ]
     },
     "metadata": {},
     "output_type": "display_data"
    },
    {
     "name": "stderr",
     "output_type": "stream",
     "text": [
      "Epoch 34/50: 100%|██████████| 363/363 [00:05<00:00, 66.81it/s]\n"
     ]
    },
    {
     "data": {
      "text/html": [
       "<pre style=\"white-space:pre;overflow-x:auto;line-height:normal;font-family:Menlo,'DejaVu Sans Mono',consolas,'Courier New',monospace\">Epoch <span style=\"color: #008080; text-decoration-color: #008080; font-weight: bold\">34</span>/<span style=\"color: #008080; text-decoration-color: #008080; font-weight: bold\">50</span>\n",
       "</pre>\n"
      ],
      "text/plain": [
       "Epoch \u001b[1;36m34\u001b[0m/\u001b[1;36m50\u001b[0m\n"
      ]
     },
     "metadata": {},
     "output_type": "display_data"
    },
    {
     "data": {
      "text/html": [
       "<pre style=\"white-space:pre;overflow-x:auto;line-height:normal;font-family:Menlo,'DejaVu Sans Mono',consolas,'Courier New',monospace\">Train Loss: <span style=\"color: #008080; text-decoration-color: #008080; font-weight: bold\">513.3558</span>, Val Loss: <span style=\"color: #008080; text-decoration-color: #008080; font-weight: bold\">801.7344</span>\n",
       "</pre>\n"
      ],
      "text/plain": [
       "Train Loss: \u001b[1;36m513.3558\u001b[0m, Val Loss: \u001b[1;36m801.7344\u001b[0m\n"
      ]
     },
     "metadata": {},
     "output_type": "display_data"
    },
    {
     "data": {
      "text/html": [
       "<pre style=\"white-space:pre;overflow-x:auto;line-height:normal;font-family:Menlo,'DejaVu Sans Mono',consolas,'Courier New',monospace\">Learning Rate: <span style=\"color: #008080; text-decoration-color: #008080; font-weight: bold\">0.001000</span>\n",
       "</pre>\n"
      ],
      "text/plain": [
       "Learning Rate: \u001b[1;36m0.001000\u001b[0m\n"
      ]
     },
     "metadata": {},
     "output_type": "display_data"
    },
    {
     "data": {
      "text/html": [
       "<pre style=\"white-space:pre;overflow-x:auto;line-height:normal;font-family:Menlo,'DejaVu Sans Mono',consolas,'Courier New',monospace\">Validation Score: <span style=\"color: #008080; text-decoration-color: #008080; font-weight: bold\">0.6282</span>\n",
       "</pre>\n"
      ],
      "text/plain": [
       "Validation Score: \u001b[1;36m0.6282\u001b[0m\n"
      ]
     },
     "metadata": {},
     "output_type": "display_data"
    },
    {
     "name": "stderr",
     "output_type": "stream",
     "text": [
      "Epoch 35/50: 100%|██████████| 363/363 [00:05<00:00, 65.50it/s]\n"
     ]
    },
    {
     "data": {
      "text/html": [
       "<pre style=\"white-space:pre;overflow-x:auto;line-height:normal;font-family:Menlo,'DejaVu Sans Mono',consolas,'Courier New',monospace\">Epoch <span style=\"color: #008080; text-decoration-color: #008080; font-weight: bold\">35</span>/<span style=\"color: #008080; text-decoration-color: #008080; font-weight: bold\">50</span>\n",
       "</pre>\n"
      ],
      "text/plain": [
       "Epoch \u001b[1;36m35\u001b[0m/\u001b[1;36m50\u001b[0m\n"
      ]
     },
     "metadata": {},
     "output_type": "display_data"
    },
    {
     "data": {
      "text/html": [
       "<pre style=\"white-space:pre;overflow-x:auto;line-height:normal;font-family:Menlo,'DejaVu Sans Mono',consolas,'Courier New',monospace\">Train Loss: <span style=\"color: #008080; text-decoration-color: #008080; font-weight: bold\">510.9377</span>, Val Loss: <span style=\"color: #008080; text-decoration-color: #008080; font-weight: bold\">821.2738</span>\n",
       "</pre>\n"
      ],
      "text/plain": [
       "Train Loss: \u001b[1;36m510.9377\u001b[0m, Val Loss: \u001b[1;36m821.2738\u001b[0m\n"
      ]
     },
     "metadata": {},
     "output_type": "display_data"
    },
    {
     "data": {
      "text/html": [
       "<pre style=\"white-space:pre;overflow-x:auto;line-height:normal;font-family:Menlo,'DejaVu Sans Mono',consolas,'Courier New',monospace\">Learning Rate: <span style=\"color: #008080; text-decoration-color: #008080; font-weight: bold\">0.001000</span>\n",
       "</pre>\n"
      ],
      "text/plain": [
       "Learning Rate: \u001b[1;36m0.001000\u001b[0m\n"
      ]
     },
     "metadata": {},
     "output_type": "display_data"
    },
    {
     "data": {
      "text/html": [
       "<pre style=\"white-space:pre;overflow-x:auto;line-height:normal;font-family:Menlo,'DejaVu Sans Mono',consolas,'Courier New',monospace\">Validation Score: <span style=\"color: #008080; text-decoration-color: #008080; font-weight: bold\">0.6201</span>\n",
       "</pre>\n"
      ],
      "text/plain": [
       "Validation Score: \u001b[1;36m0.6201\u001b[0m\n"
      ]
     },
     "metadata": {},
     "output_type": "display_data"
    },
    {
     "name": "stderr",
     "output_type": "stream",
     "text": [
      "Epoch 36/50: 100%|██████████| 363/363 [00:05<00:00, 65.98it/s]\n"
     ]
    },
    {
     "data": {
      "text/html": [
       "<pre style=\"white-space:pre;overflow-x:auto;line-height:normal;font-family:Menlo,'DejaVu Sans Mono',consolas,'Courier New',monospace\">Epoch <span style=\"color: #008080; text-decoration-color: #008080; font-weight: bold\">36</span>/<span style=\"color: #008080; text-decoration-color: #008080; font-weight: bold\">50</span>\n",
       "</pre>\n"
      ],
      "text/plain": [
       "Epoch \u001b[1;36m36\u001b[0m/\u001b[1;36m50\u001b[0m\n"
      ]
     },
     "metadata": {},
     "output_type": "display_data"
    },
    {
     "data": {
      "text/html": [
       "<pre style=\"white-space:pre;overflow-x:auto;line-height:normal;font-family:Menlo,'DejaVu Sans Mono',consolas,'Courier New',monospace\">Train Loss: <span style=\"color: #008080; text-decoration-color: #008080; font-weight: bold\">509.6906</span>, Val Loss: <span style=\"color: #008080; text-decoration-color: #008080; font-weight: bold\">827.0533</span>\n",
       "</pre>\n"
      ],
      "text/plain": [
       "Train Loss: \u001b[1;36m509.6906\u001b[0m, Val Loss: \u001b[1;36m827.0533\u001b[0m\n"
      ]
     },
     "metadata": {},
     "output_type": "display_data"
    },
    {
     "data": {
      "text/html": [
       "<pre style=\"white-space:pre;overflow-x:auto;line-height:normal;font-family:Menlo,'DejaVu Sans Mono',consolas,'Courier New',monospace\">Learning Rate: <span style=\"color: #008080; text-decoration-color: #008080; font-weight: bold\">0.001000</span>\n",
       "</pre>\n"
      ],
      "text/plain": [
       "Learning Rate: \u001b[1;36m0.001000\u001b[0m\n"
      ]
     },
     "metadata": {},
     "output_type": "display_data"
    },
    {
     "data": {
      "text/html": [
       "<pre style=\"white-space:pre;overflow-x:auto;line-height:normal;font-family:Menlo,'DejaVu Sans Mono',consolas,'Courier New',monospace\">Validation Score: <span style=\"color: #008080; text-decoration-color: #008080; font-weight: bold\">0.6270</span>\n",
       "</pre>\n"
      ],
      "text/plain": [
       "Validation Score: \u001b[1;36m0.6270\u001b[0m\n"
      ]
     },
     "metadata": {},
     "output_type": "display_data"
    },
    {
     "name": "stderr",
     "output_type": "stream",
     "text": [
      "Epoch 37/50: 100%|██████████| 363/363 [00:05<00:00, 67.27it/s]\n"
     ]
    },
    {
     "data": {
      "text/html": [
       "<pre style=\"white-space:pre;overflow-x:auto;line-height:normal;font-family:Menlo,'DejaVu Sans Mono',consolas,'Courier New',monospace\">Epoch <span style=\"color: #008080; text-decoration-color: #008080; font-weight: bold\">37</span>/<span style=\"color: #008080; text-decoration-color: #008080; font-weight: bold\">50</span>\n",
       "</pre>\n"
      ],
      "text/plain": [
       "Epoch \u001b[1;36m37\u001b[0m/\u001b[1;36m50\u001b[0m\n"
      ]
     },
     "metadata": {},
     "output_type": "display_data"
    },
    {
     "data": {
      "text/html": [
       "<pre style=\"white-space:pre;overflow-x:auto;line-height:normal;font-family:Menlo,'DejaVu Sans Mono',consolas,'Courier New',monospace\">Train Loss: <span style=\"color: #008080; text-decoration-color: #008080; font-weight: bold\">508.2716</span>, Val Loss: <span style=\"color: #008080; text-decoration-color: #008080; font-weight: bold\">815.2572</span>\n",
       "</pre>\n"
      ],
      "text/plain": [
       "Train Loss: \u001b[1;36m508.2716\u001b[0m, Val Loss: \u001b[1;36m815.2572\u001b[0m\n"
      ]
     },
     "metadata": {},
     "output_type": "display_data"
    },
    {
     "data": {
      "text/html": [
       "<pre style=\"white-space:pre;overflow-x:auto;line-height:normal;font-family:Menlo,'DejaVu Sans Mono',consolas,'Courier New',monospace\">Learning Rate: <span style=\"color: #008080; text-decoration-color: #008080; font-weight: bold\">0.001000</span>\n",
       "</pre>\n"
      ],
      "text/plain": [
       "Learning Rate: \u001b[1;36m0.001000\u001b[0m\n"
      ]
     },
     "metadata": {},
     "output_type": "display_data"
    },
    {
     "data": {
      "text/html": [
       "<pre style=\"white-space:pre;overflow-x:auto;line-height:normal;font-family:Menlo,'DejaVu Sans Mono',consolas,'Courier New',monospace\">Validation Score: <span style=\"color: #008080; text-decoration-color: #008080; font-weight: bold\">0.6130</span>\n",
       "</pre>\n"
      ],
      "text/plain": [
       "Validation Score: \u001b[1;36m0.6130\u001b[0m\n"
      ]
     },
     "metadata": {},
     "output_type": "display_data"
    },
    {
     "name": "stderr",
     "output_type": "stream",
     "text": [
      "Epoch 38/50: 100%|██████████| 363/363 [00:05<00:00, 66.44it/s]\n"
     ]
    },
    {
     "data": {
      "text/html": [
       "<pre style=\"white-space:pre;overflow-x:auto;line-height:normal;font-family:Menlo,'DejaVu Sans Mono',consolas,'Courier New',monospace\">Epoch <span style=\"color: #008080; text-decoration-color: #008080; font-weight: bold\">38</span>/<span style=\"color: #008080; text-decoration-color: #008080; font-weight: bold\">50</span>\n",
       "</pre>\n"
      ],
      "text/plain": [
       "Epoch \u001b[1;36m38\u001b[0m/\u001b[1;36m50\u001b[0m\n"
      ]
     },
     "metadata": {},
     "output_type": "display_data"
    },
    {
     "data": {
      "text/html": [
       "<pre style=\"white-space:pre;overflow-x:auto;line-height:normal;font-family:Menlo,'DejaVu Sans Mono',consolas,'Courier New',monospace\">Train Loss: <span style=\"color: #008080; text-decoration-color: #008080; font-weight: bold\">505.3344</span>, Val Loss: <span style=\"color: #008080; text-decoration-color: #008080; font-weight: bold\">817.0996</span>\n",
       "</pre>\n"
      ],
      "text/plain": [
       "Train Loss: \u001b[1;36m505.3344\u001b[0m, Val Loss: \u001b[1;36m817.0996\u001b[0m\n"
      ]
     },
     "metadata": {},
     "output_type": "display_data"
    },
    {
     "data": {
      "text/html": [
       "<pre style=\"white-space:pre;overflow-x:auto;line-height:normal;font-family:Menlo,'DejaVu Sans Mono',consolas,'Courier New',monospace\">Learning Rate: <span style=\"color: #008080; text-decoration-color: #008080; font-weight: bold\">0.001000</span>\n",
       "</pre>\n"
      ],
      "text/plain": [
       "Learning Rate: \u001b[1;36m0.001000\u001b[0m\n"
      ]
     },
     "metadata": {},
     "output_type": "display_data"
    },
    {
     "data": {
      "text/html": [
       "<pre style=\"white-space:pre;overflow-x:auto;line-height:normal;font-family:Menlo,'DejaVu Sans Mono',consolas,'Courier New',monospace\">Validation Score: <span style=\"color: #008080; text-decoration-color: #008080; font-weight: bold\">0.6124</span>\n",
       "</pre>\n"
      ],
      "text/plain": [
       "Validation Score: \u001b[1;36m0.6124\u001b[0m\n"
      ]
     },
     "metadata": {},
     "output_type": "display_data"
    },
    {
     "name": "stderr",
     "output_type": "stream",
     "text": [
      "Epoch 39/50: 100%|██████████| 363/363 [00:05<00:00, 66.53it/s]\n"
     ]
    },
    {
     "data": {
      "text/html": [
       "<pre style=\"white-space:pre;overflow-x:auto;line-height:normal;font-family:Menlo,'DejaVu Sans Mono',consolas,'Courier New',monospace\">Epoch <span style=\"color: #008080; text-decoration-color: #008080; font-weight: bold\">39</span>/<span style=\"color: #008080; text-decoration-color: #008080; font-weight: bold\">50</span>\n",
       "</pre>\n"
      ],
      "text/plain": [
       "Epoch \u001b[1;36m39\u001b[0m/\u001b[1;36m50\u001b[0m\n"
      ]
     },
     "metadata": {},
     "output_type": "display_data"
    },
    {
     "data": {
      "text/html": [
       "<pre style=\"white-space:pre;overflow-x:auto;line-height:normal;font-family:Menlo,'DejaVu Sans Mono',consolas,'Courier New',monospace\">Train Loss: <span style=\"color: #008080; text-decoration-color: #008080; font-weight: bold\">503.1405</span>, Val Loss: <span style=\"color: #008080; text-decoration-color: #008080; font-weight: bold\">811.1458</span>\n",
       "</pre>\n"
      ],
      "text/plain": [
       "Train Loss: \u001b[1;36m503.1405\u001b[0m, Val Loss: \u001b[1;36m811.1458\u001b[0m\n"
      ]
     },
     "metadata": {},
     "output_type": "display_data"
    },
    {
     "data": {
      "text/html": [
       "<pre style=\"white-space:pre;overflow-x:auto;line-height:normal;font-family:Menlo,'DejaVu Sans Mono',consolas,'Courier New',monospace\">Learning Rate: <span style=\"color: #008080; text-decoration-color: #008080; font-weight: bold\">0.001000</span>\n",
       "</pre>\n"
      ],
      "text/plain": [
       "Learning Rate: \u001b[1;36m0.001000\u001b[0m\n"
      ]
     },
     "metadata": {},
     "output_type": "display_data"
    },
    {
     "data": {
      "text/html": [
       "<pre style=\"white-space:pre;overflow-x:auto;line-height:normal;font-family:Menlo,'DejaVu Sans Mono',consolas,'Courier New',monospace\">Validation Score: <span style=\"color: #008080; text-decoration-color: #008080; font-weight: bold\">0.6221</span>\n",
       "</pre>\n"
      ],
      "text/plain": [
       "Validation Score: \u001b[1;36m0.6221\u001b[0m\n"
      ]
     },
     "metadata": {},
     "output_type": "display_data"
    },
    {
     "name": "stderr",
     "output_type": "stream",
     "text": [
      "Epoch 40/50: 100%|██████████| 363/363 [00:05<00:00, 65.20it/s]\n"
     ]
    },
    {
     "data": {
      "text/html": [
       "<pre style=\"white-space:pre;overflow-x:auto;line-height:normal;font-family:Menlo,'DejaVu Sans Mono',consolas,'Courier New',monospace\">Epoch <span style=\"color: #008080; text-decoration-color: #008080; font-weight: bold\">40</span>/<span style=\"color: #008080; text-decoration-color: #008080; font-weight: bold\">50</span>\n",
       "</pre>\n"
      ],
      "text/plain": [
       "Epoch \u001b[1;36m40\u001b[0m/\u001b[1;36m50\u001b[0m\n"
      ]
     },
     "metadata": {},
     "output_type": "display_data"
    },
    {
     "data": {
      "text/html": [
       "<pre style=\"white-space:pre;overflow-x:auto;line-height:normal;font-family:Menlo,'DejaVu Sans Mono',consolas,'Courier New',monospace\">Train Loss: <span style=\"color: #008080; text-decoration-color: #008080; font-weight: bold\">505.3663</span>, Val Loss: <span style=\"color: #008080; text-decoration-color: #008080; font-weight: bold\">817.3859</span>\n",
       "</pre>\n"
      ],
      "text/plain": [
       "Train Loss: \u001b[1;36m505.3663\u001b[0m, Val Loss: \u001b[1;36m817.3859\u001b[0m\n"
      ]
     },
     "metadata": {},
     "output_type": "display_data"
    },
    {
     "data": {
      "text/html": [
       "<pre style=\"white-space:pre;overflow-x:auto;line-height:normal;font-family:Menlo,'DejaVu Sans Mono',consolas,'Courier New',monospace\">Learning Rate: <span style=\"color: #008080; text-decoration-color: #008080; font-weight: bold\">0.001000</span>\n",
       "</pre>\n"
      ],
      "text/plain": [
       "Learning Rate: \u001b[1;36m0.001000\u001b[0m\n"
      ]
     },
     "metadata": {},
     "output_type": "display_data"
    },
    {
     "data": {
      "text/html": [
       "<pre style=\"white-space:pre;overflow-x:auto;line-height:normal;font-family:Menlo,'DejaVu Sans Mono',consolas,'Courier New',monospace\">Validation Score: <span style=\"color: #008080; text-decoration-color: #008080; font-weight: bold\">0.6151</span>\n",
       "</pre>\n"
      ],
      "text/plain": [
       "Validation Score: \u001b[1;36m0.6151\u001b[0m\n"
      ]
     },
     "metadata": {},
     "output_type": "display_data"
    },
    {
     "name": "stderr",
     "output_type": "stream",
     "text": [
      "Epoch 41/50: 100%|██████████| 363/363 [00:05<00:00, 67.00it/s]\n"
     ]
    },
    {
     "data": {
      "text/html": [
       "<pre style=\"white-space:pre;overflow-x:auto;line-height:normal;font-family:Menlo,'DejaVu Sans Mono',consolas,'Courier New',monospace\">Epoch <span style=\"color: #008080; text-decoration-color: #008080; font-weight: bold\">41</span>/<span style=\"color: #008080; text-decoration-color: #008080; font-weight: bold\">50</span>\n",
       "</pre>\n"
      ],
      "text/plain": [
       "Epoch \u001b[1;36m41\u001b[0m/\u001b[1;36m50\u001b[0m\n"
      ]
     },
     "metadata": {},
     "output_type": "display_data"
    },
    {
     "data": {
      "text/html": [
       "<pre style=\"white-space:pre;overflow-x:auto;line-height:normal;font-family:Menlo,'DejaVu Sans Mono',consolas,'Courier New',monospace\">Train Loss: <span style=\"color: #008080; text-decoration-color: #008080; font-weight: bold\">502.2005</span>, Val Loss: <span style=\"color: #008080; text-decoration-color: #008080; font-weight: bold\">820.2497</span>\n",
       "</pre>\n"
      ],
      "text/plain": [
       "Train Loss: \u001b[1;36m502.2005\u001b[0m, Val Loss: \u001b[1;36m820.2497\u001b[0m\n"
      ]
     },
     "metadata": {},
     "output_type": "display_data"
    },
    {
     "data": {
      "text/html": [
       "<pre style=\"white-space:pre;overflow-x:auto;line-height:normal;font-family:Menlo,'DejaVu Sans Mono',consolas,'Courier New',monospace\">Learning Rate: <span style=\"color: #008080; text-decoration-color: #008080; font-weight: bold\">0.001000</span>\n",
       "</pre>\n"
      ],
      "text/plain": [
       "Learning Rate: \u001b[1;36m0.001000\u001b[0m\n"
      ]
     },
     "metadata": {},
     "output_type": "display_data"
    },
    {
     "data": {
      "text/html": [
       "<pre style=\"white-space:pre;overflow-x:auto;line-height:normal;font-family:Menlo,'DejaVu Sans Mono',consolas,'Courier New',monospace\">Validation Score: <span style=\"color: #008080; text-decoration-color: #008080; font-weight: bold\">0.6153</span>\n",
       "</pre>\n"
      ],
      "text/plain": [
       "Validation Score: \u001b[1;36m0.6153\u001b[0m\n"
      ]
     },
     "metadata": {},
     "output_type": "display_data"
    },
    {
     "name": "stderr",
     "output_type": "stream",
     "text": [
      "Epoch 42/50: 100%|██████████| 363/363 [00:05<00:00, 64.86it/s]\n"
     ]
    },
    {
     "data": {
      "text/html": [
       "<pre style=\"white-space:pre;overflow-x:auto;line-height:normal;font-family:Menlo,'DejaVu Sans Mono',consolas,'Courier New',monospace\">Epoch <span style=\"color: #008080; text-decoration-color: #008080; font-weight: bold\">42</span>/<span style=\"color: #008080; text-decoration-color: #008080; font-weight: bold\">50</span>\n",
       "</pre>\n"
      ],
      "text/plain": [
       "Epoch \u001b[1;36m42\u001b[0m/\u001b[1;36m50\u001b[0m\n"
      ]
     },
     "metadata": {},
     "output_type": "display_data"
    },
    {
     "data": {
      "text/html": [
       "<pre style=\"white-space:pre;overflow-x:auto;line-height:normal;font-family:Menlo,'DejaVu Sans Mono',consolas,'Courier New',monospace\">Train Loss: <span style=\"color: #008080; text-decoration-color: #008080; font-weight: bold\">502.8420</span>, Val Loss: <span style=\"color: #008080; text-decoration-color: #008080; font-weight: bold\">821.9485</span>\n",
       "</pre>\n"
      ],
      "text/plain": [
       "Train Loss: \u001b[1;36m502.8420\u001b[0m, Val Loss: \u001b[1;36m821.9485\u001b[0m\n"
      ]
     },
     "metadata": {},
     "output_type": "display_data"
    },
    {
     "data": {
      "text/html": [
       "<pre style=\"white-space:pre;overflow-x:auto;line-height:normal;font-family:Menlo,'DejaVu Sans Mono',consolas,'Courier New',monospace\">Learning Rate: <span style=\"color: #008080; text-decoration-color: #008080; font-weight: bold\">0.001000</span>\n",
       "</pre>\n"
      ],
      "text/plain": [
       "Learning Rate: \u001b[1;36m0.001000\u001b[0m\n"
      ]
     },
     "metadata": {},
     "output_type": "display_data"
    },
    {
     "data": {
      "text/html": [
       "<pre style=\"white-space:pre;overflow-x:auto;line-height:normal;font-family:Menlo,'DejaVu Sans Mono',consolas,'Courier New',monospace\">Validation Score: <span style=\"color: #008080; text-decoration-color: #008080; font-weight: bold\">0.6186</span>\n",
       "</pre>\n"
      ],
      "text/plain": [
       "Validation Score: \u001b[1;36m0.6186\u001b[0m\n"
      ]
     },
     "metadata": {},
     "output_type": "display_data"
    },
    {
     "name": "stderr",
     "output_type": "stream",
     "text": [
      "Epoch 43/50: 100%|██████████| 363/363 [00:05<00:00, 64.94it/s]\n"
     ]
    },
    {
     "data": {
      "text/html": [
       "<pre style=\"white-space:pre;overflow-x:auto;line-height:normal;font-family:Menlo,'DejaVu Sans Mono',consolas,'Courier New',monospace\">Epoch <span style=\"color: #008080; text-decoration-color: #008080; font-weight: bold\">43</span>/<span style=\"color: #008080; text-decoration-color: #008080; font-weight: bold\">50</span>\n",
       "</pre>\n"
      ],
      "text/plain": [
       "Epoch \u001b[1;36m43\u001b[0m/\u001b[1;36m50\u001b[0m\n"
      ]
     },
     "metadata": {},
     "output_type": "display_data"
    },
    {
     "data": {
      "text/html": [
       "<pre style=\"white-space:pre;overflow-x:auto;line-height:normal;font-family:Menlo,'DejaVu Sans Mono',consolas,'Courier New',monospace\">Train Loss: <span style=\"color: #008080; text-decoration-color: #008080; font-weight: bold\">501.3612</span>, Val Loss: <span style=\"color: #008080; text-decoration-color: #008080; font-weight: bold\">812.6989</span>\n",
       "</pre>\n"
      ],
      "text/plain": [
       "Train Loss: \u001b[1;36m501.3612\u001b[0m, Val Loss: \u001b[1;36m812.6989\u001b[0m\n"
      ]
     },
     "metadata": {},
     "output_type": "display_data"
    },
    {
     "data": {
      "text/html": [
       "<pre style=\"white-space:pre;overflow-x:auto;line-height:normal;font-family:Menlo,'DejaVu Sans Mono',consolas,'Courier New',monospace\">Learning Rate: <span style=\"color: #008080; text-decoration-color: #008080; font-weight: bold\">0.001000</span>\n",
       "</pre>\n"
      ],
      "text/plain": [
       "Learning Rate: \u001b[1;36m0.001000\u001b[0m\n"
      ]
     },
     "metadata": {},
     "output_type": "display_data"
    },
    {
     "data": {
      "text/html": [
       "<pre style=\"white-space:pre;overflow-x:auto;line-height:normal;font-family:Menlo,'DejaVu Sans Mono',consolas,'Courier New',monospace\">Validation Score: <span style=\"color: #008080; text-decoration-color: #008080; font-weight: bold\">0.6136</span>\n",
       "</pre>\n"
      ],
      "text/plain": [
       "Validation Score: \u001b[1;36m0.6136\u001b[0m\n"
      ]
     },
     "metadata": {},
     "output_type": "display_data"
    },
    {
     "name": "stderr",
     "output_type": "stream",
     "text": [
      "Epoch 44/50: 100%|██████████| 363/363 [00:05<00:00, 66.89it/s]\n"
     ]
    },
    {
     "data": {
      "text/html": [
       "<pre style=\"white-space:pre;overflow-x:auto;line-height:normal;font-family:Menlo,'DejaVu Sans Mono',consolas,'Courier New',monospace\">Epoch <span style=\"color: #008080; text-decoration-color: #008080; font-weight: bold\">44</span>/<span style=\"color: #008080; text-decoration-color: #008080; font-weight: bold\">50</span>\n",
       "</pre>\n"
      ],
      "text/plain": [
       "Epoch \u001b[1;36m44\u001b[0m/\u001b[1;36m50\u001b[0m\n"
      ]
     },
     "metadata": {},
     "output_type": "display_data"
    },
    {
     "data": {
      "text/html": [
       "<pre style=\"white-space:pre;overflow-x:auto;line-height:normal;font-family:Menlo,'DejaVu Sans Mono',consolas,'Courier New',monospace\">Train Loss: <span style=\"color: #008080; text-decoration-color: #008080; font-weight: bold\">502.4938</span>, Val Loss: <span style=\"color: #008080; text-decoration-color: #008080; font-weight: bold\">827.8457</span>\n",
       "</pre>\n"
      ],
      "text/plain": [
       "Train Loss: \u001b[1;36m502.4938\u001b[0m, Val Loss: \u001b[1;36m827.8457\u001b[0m\n"
      ]
     },
     "metadata": {},
     "output_type": "display_data"
    },
    {
     "data": {
      "text/html": [
       "<pre style=\"white-space:pre;overflow-x:auto;line-height:normal;font-family:Menlo,'DejaVu Sans Mono',consolas,'Courier New',monospace\">Learning Rate: <span style=\"color: #008080; text-decoration-color: #008080; font-weight: bold\">0.001000</span>\n",
       "</pre>\n"
      ],
      "text/plain": [
       "Learning Rate: \u001b[1;36m0.001000\u001b[0m\n"
      ]
     },
     "metadata": {},
     "output_type": "display_data"
    },
    {
     "data": {
      "text/html": [
       "<pre style=\"white-space:pre;overflow-x:auto;line-height:normal;font-family:Menlo,'DejaVu Sans Mono',consolas,'Courier New',monospace\">Validation Score: <span style=\"color: #008080; text-decoration-color: #008080; font-weight: bold\">0.6257</span>\n",
       "</pre>\n"
      ],
      "text/plain": [
       "Validation Score: \u001b[1;36m0.6257\u001b[0m\n"
      ]
     },
     "metadata": {},
     "output_type": "display_data"
    },
    {
     "name": "stderr",
     "output_type": "stream",
     "text": [
      "Epoch 45/50: 100%|██████████| 363/363 [00:05<00:00, 65.89it/s]\n"
     ]
    },
    {
     "data": {
      "text/html": [
       "<pre style=\"white-space:pre;overflow-x:auto;line-height:normal;font-family:Menlo,'DejaVu Sans Mono',consolas,'Courier New',monospace\">Epoch <span style=\"color: #008080; text-decoration-color: #008080; font-weight: bold\">45</span>/<span style=\"color: #008080; text-decoration-color: #008080; font-weight: bold\">50</span>\n",
       "</pre>\n"
      ],
      "text/plain": [
       "Epoch \u001b[1;36m45\u001b[0m/\u001b[1;36m50\u001b[0m\n"
      ]
     },
     "metadata": {},
     "output_type": "display_data"
    },
    {
     "data": {
      "text/html": [
       "<pre style=\"white-space:pre;overflow-x:auto;line-height:normal;font-family:Menlo,'DejaVu Sans Mono',consolas,'Courier New',monospace\">Train Loss: <span style=\"color: #008080; text-decoration-color: #008080; font-weight: bold\">499.7973</span>, Val Loss: <span style=\"color: #008080; text-decoration-color: #008080; font-weight: bold\">811.9234</span>\n",
       "</pre>\n"
      ],
      "text/plain": [
       "Train Loss: \u001b[1;36m499.7973\u001b[0m, Val Loss: \u001b[1;36m811.9234\u001b[0m\n"
      ]
     },
     "metadata": {},
     "output_type": "display_data"
    },
    {
     "data": {
      "text/html": [
       "<pre style=\"white-space:pre;overflow-x:auto;line-height:normal;font-family:Menlo,'DejaVu Sans Mono',consolas,'Courier New',monospace\">Learning Rate: <span style=\"color: #008080; text-decoration-color: #008080; font-weight: bold\">0.001000</span>\n",
       "</pre>\n"
      ],
      "text/plain": [
       "Learning Rate: \u001b[1;36m0.001000\u001b[0m\n"
      ]
     },
     "metadata": {},
     "output_type": "display_data"
    },
    {
     "data": {
      "text/html": [
       "<pre style=\"white-space:pre;overflow-x:auto;line-height:normal;font-family:Menlo,'DejaVu Sans Mono',consolas,'Courier New',monospace\">Validation Score: <span style=\"color: #008080; text-decoration-color: #008080; font-weight: bold\">0.6167</span>\n",
       "</pre>\n"
      ],
      "text/plain": [
       "Validation Score: \u001b[1;36m0.6167\u001b[0m\n"
      ]
     },
     "metadata": {},
     "output_type": "display_data"
    },
    {
     "name": "stderr",
     "output_type": "stream",
     "text": [
      "Epoch 46/50: 100%|██████████| 363/363 [00:05<00:00, 66.47it/s]\n"
     ]
    },
    {
     "data": {
      "text/html": [
       "<pre style=\"white-space:pre;overflow-x:auto;line-height:normal;font-family:Menlo,'DejaVu Sans Mono',consolas,'Courier New',monospace\">Epoch <span style=\"color: #008080; text-decoration-color: #008080; font-weight: bold\">46</span>/<span style=\"color: #008080; text-decoration-color: #008080; font-weight: bold\">50</span>\n",
       "</pre>\n"
      ],
      "text/plain": [
       "Epoch \u001b[1;36m46\u001b[0m/\u001b[1;36m50\u001b[0m\n"
      ]
     },
     "metadata": {},
     "output_type": "display_data"
    },
    {
     "data": {
      "text/html": [
       "<pre style=\"white-space:pre;overflow-x:auto;line-height:normal;font-family:Menlo,'DejaVu Sans Mono',consolas,'Courier New',monospace\">Train Loss: <span style=\"color: #008080; text-decoration-color: #008080; font-weight: bold\">497.4713</span>, Val Loss: <span style=\"color: #008080; text-decoration-color: #008080; font-weight: bold\">826.4468</span>\n",
       "</pre>\n"
      ],
      "text/plain": [
       "Train Loss: \u001b[1;36m497.4713\u001b[0m, Val Loss: \u001b[1;36m826.4468\u001b[0m\n"
      ]
     },
     "metadata": {},
     "output_type": "display_data"
    },
    {
     "data": {
      "text/html": [
       "<pre style=\"white-space:pre;overflow-x:auto;line-height:normal;font-family:Menlo,'DejaVu Sans Mono',consolas,'Courier New',monospace\">Learning Rate: <span style=\"color: #008080; text-decoration-color: #008080; font-weight: bold\">0.001000</span>\n",
       "</pre>\n"
      ],
      "text/plain": [
       "Learning Rate: \u001b[1;36m0.001000\u001b[0m\n"
      ]
     },
     "metadata": {},
     "output_type": "display_data"
    },
    {
     "data": {
      "text/html": [
       "<pre style=\"white-space:pre;overflow-x:auto;line-height:normal;font-family:Menlo,'DejaVu Sans Mono',consolas,'Courier New',monospace\">Validation Score: <span style=\"color: #008080; text-decoration-color: #008080; font-weight: bold\">0.6180</span>\n",
       "</pre>\n"
      ],
      "text/plain": [
       "Validation Score: \u001b[1;36m0.6180\u001b[0m\n"
      ]
     },
     "metadata": {},
     "output_type": "display_data"
    },
    {
     "name": "stderr",
     "output_type": "stream",
     "text": [
      "Epoch 47/50: 100%|██████████| 363/363 [00:05<00:00, 64.06it/s]\n"
     ]
    },
    {
     "data": {
      "text/html": [
       "<pre style=\"white-space:pre;overflow-x:auto;line-height:normal;font-family:Menlo,'DejaVu Sans Mono',consolas,'Courier New',monospace\">Epoch <span style=\"color: #008080; text-decoration-color: #008080; font-weight: bold\">47</span>/<span style=\"color: #008080; text-decoration-color: #008080; font-weight: bold\">50</span>\n",
       "</pre>\n"
      ],
      "text/plain": [
       "Epoch \u001b[1;36m47\u001b[0m/\u001b[1;36m50\u001b[0m\n"
      ]
     },
     "metadata": {},
     "output_type": "display_data"
    },
    {
     "data": {
      "text/html": [
       "<pre style=\"white-space:pre;overflow-x:auto;line-height:normal;font-family:Menlo,'DejaVu Sans Mono',consolas,'Courier New',monospace\">Train Loss: <span style=\"color: #008080; text-decoration-color: #008080; font-weight: bold\">496.2960</span>, Val Loss: <span style=\"color: #008080; text-decoration-color: #008080; font-weight: bold\">808.4806</span>\n",
       "</pre>\n"
      ],
      "text/plain": [
       "Train Loss: \u001b[1;36m496.2960\u001b[0m, Val Loss: \u001b[1;36m808.4806\u001b[0m\n"
      ]
     },
     "metadata": {},
     "output_type": "display_data"
    },
    {
     "data": {
      "text/html": [
       "<pre style=\"white-space:pre;overflow-x:auto;line-height:normal;font-family:Menlo,'DejaVu Sans Mono',consolas,'Courier New',monospace\">Learning Rate: <span style=\"color: #008080; text-decoration-color: #008080; font-weight: bold\">0.001000</span>\n",
       "</pre>\n"
      ],
      "text/plain": [
       "Learning Rate: \u001b[1;36m0.001000\u001b[0m\n"
      ]
     },
     "metadata": {},
     "output_type": "display_data"
    },
    {
     "data": {
      "text/html": [
       "<pre style=\"white-space:pre;overflow-x:auto;line-height:normal;font-family:Menlo,'DejaVu Sans Mono',consolas,'Courier New',monospace\">Validation Score: <span style=\"color: #008080; text-decoration-color: #008080; font-weight: bold\">0.6249</span>\n",
       "</pre>\n"
      ],
      "text/plain": [
       "Validation Score: \u001b[1;36m0.6249\u001b[0m\n"
      ]
     },
     "metadata": {},
     "output_type": "display_data"
    },
    {
     "name": "stderr",
     "output_type": "stream",
     "text": [
      "Epoch 48/50: 100%|██████████| 363/363 [00:05<00:00, 63.92it/s]\n"
     ]
    },
    {
     "data": {
      "text/html": [
       "<pre style=\"white-space:pre;overflow-x:auto;line-height:normal;font-family:Menlo,'DejaVu Sans Mono',consolas,'Courier New',monospace\">Epoch <span style=\"color: #008080; text-decoration-color: #008080; font-weight: bold\">48</span>/<span style=\"color: #008080; text-decoration-color: #008080; font-weight: bold\">50</span>\n",
       "</pre>\n"
      ],
      "text/plain": [
       "Epoch \u001b[1;36m48\u001b[0m/\u001b[1;36m50\u001b[0m\n"
      ]
     },
     "metadata": {},
     "output_type": "display_data"
    },
    {
     "data": {
      "text/html": [
       "<pre style=\"white-space:pre;overflow-x:auto;line-height:normal;font-family:Menlo,'DejaVu Sans Mono',consolas,'Courier New',monospace\">Train Loss: <span style=\"color: #008080; text-decoration-color: #008080; font-weight: bold\">496.6734</span>, Val Loss: <span style=\"color: #008080; text-decoration-color: #008080; font-weight: bold\">803.9788</span>\n",
       "</pre>\n"
      ],
      "text/plain": [
       "Train Loss: \u001b[1;36m496.6734\u001b[0m, Val Loss: \u001b[1;36m803.9788\u001b[0m\n"
      ]
     },
     "metadata": {},
     "output_type": "display_data"
    },
    {
     "data": {
      "text/html": [
       "<pre style=\"white-space:pre;overflow-x:auto;line-height:normal;font-family:Menlo,'DejaVu Sans Mono',consolas,'Courier New',monospace\">Learning Rate: <span style=\"color: #008080; text-decoration-color: #008080; font-weight: bold\">0.001000</span>\n",
       "</pre>\n"
      ],
      "text/plain": [
       "Learning Rate: \u001b[1;36m0.001000\u001b[0m\n"
      ]
     },
     "metadata": {},
     "output_type": "display_data"
    },
    {
     "data": {
      "text/html": [
       "<pre style=\"white-space:pre;overflow-x:auto;line-height:normal;font-family:Menlo,'DejaVu Sans Mono',consolas,'Courier New',monospace\">Validation Score: <span style=\"color: #008080; text-decoration-color: #008080; font-weight: bold\">0.6279</span>\n",
       "</pre>\n"
      ],
      "text/plain": [
       "Validation Score: \u001b[1;36m0.6279\u001b[0m\n"
      ]
     },
     "metadata": {},
     "output_type": "display_data"
    },
    {
     "name": "stderr",
     "output_type": "stream",
     "text": [
      "Epoch 49/50: 100%|██████████| 363/363 [00:05<00:00, 63.76it/s]\n"
     ]
    },
    {
     "data": {
      "text/html": [
       "<pre style=\"white-space:pre;overflow-x:auto;line-height:normal;font-family:Menlo,'DejaVu Sans Mono',consolas,'Courier New',monospace\">Epoch <span style=\"color: #008080; text-decoration-color: #008080; font-weight: bold\">49</span>/<span style=\"color: #008080; text-decoration-color: #008080; font-weight: bold\">50</span>\n",
       "</pre>\n"
      ],
      "text/plain": [
       "Epoch \u001b[1;36m49\u001b[0m/\u001b[1;36m50\u001b[0m\n"
      ]
     },
     "metadata": {},
     "output_type": "display_data"
    },
    {
     "data": {
      "text/html": [
       "<pre style=\"white-space:pre;overflow-x:auto;line-height:normal;font-family:Menlo,'DejaVu Sans Mono',consolas,'Courier New',monospace\">Train Loss: <span style=\"color: #008080; text-decoration-color: #008080; font-weight: bold\">495.3701</span>, Val Loss: <span style=\"color: #008080; text-decoration-color: #008080; font-weight: bold\">821.3025</span>\n",
       "</pre>\n"
      ],
      "text/plain": [
       "Train Loss: \u001b[1;36m495.3701\u001b[0m, Val Loss: \u001b[1;36m821.3025\u001b[0m\n"
      ]
     },
     "metadata": {},
     "output_type": "display_data"
    },
    {
     "data": {
      "text/html": [
       "<pre style=\"white-space:pre;overflow-x:auto;line-height:normal;font-family:Menlo,'DejaVu Sans Mono',consolas,'Courier New',monospace\">Learning Rate: <span style=\"color: #008080; text-decoration-color: #008080; font-weight: bold\">0.001000</span>\n",
       "</pre>\n"
      ],
      "text/plain": [
       "Learning Rate: \u001b[1;36m0.001000\u001b[0m\n"
      ]
     },
     "metadata": {},
     "output_type": "display_data"
    },
    {
     "data": {
      "text/html": [
       "<pre style=\"white-space:pre;overflow-x:auto;line-height:normal;font-family:Menlo,'DejaVu Sans Mono',consolas,'Courier New',monospace\">Validation Score: <span style=\"color: #008080; text-decoration-color: #008080; font-weight: bold\">0.6261</span>\n",
       "</pre>\n"
      ],
      "text/plain": [
       "Validation Score: \u001b[1;36m0.6261\u001b[0m\n"
      ]
     },
     "metadata": {},
     "output_type": "display_data"
    },
    {
     "name": "stderr",
     "output_type": "stream",
     "text": [
      "Epoch 50/50: 100%|██████████| 363/363 [00:05<00:00, 63.95it/s]\n"
     ]
    },
    {
     "data": {
      "text/html": [
       "<pre style=\"white-space:pre;overflow-x:auto;line-height:normal;font-family:Menlo,'DejaVu Sans Mono',consolas,'Courier New',monospace\">Epoch <span style=\"color: #008080; text-decoration-color: #008080; font-weight: bold\">50</span>/<span style=\"color: #008080; text-decoration-color: #008080; font-weight: bold\">50</span>\n",
       "</pre>\n"
      ],
      "text/plain": [
       "Epoch \u001b[1;36m50\u001b[0m/\u001b[1;36m50\u001b[0m\n"
      ]
     },
     "metadata": {},
     "output_type": "display_data"
    },
    {
     "data": {
      "text/html": [
       "<pre style=\"white-space:pre;overflow-x:auto;line-height:normal;font-family:Menlo,'DejaVu Sans Mono',consolas,'Courier New',monospace\">Train Loss: <span style=\"color: #008080; text-decoration-color: #008080; font-weight: bold\">493.8637</span>, Val Loss: <span style=\"color: #008080; text-decoration-color: #008080; font-weight: bold\">811.5681</span>\n",
       "</pre>\n"
      ],
      "text/plain": [
       "Train Loss: \u001b[1;36m493.8637\u001b[0m, Val Loss: \u001b[1;36m811.5681\u001b[0m\n"
      ]
     },
     "metadata": {},
     "output_type": "display_data"
    },
    {
     "data": {
      "text/html": [
       "<pre style=\"white-space:pre;overflow-x:auto;line-height:normal;font-family:Menlo,'DejaVu Sans Mono',consolas,'Courier New',monospace\">Learning Rate: <span style=\"color: #008080; text-decoration-color: #008080; font-weight: bold\">0.001000</span>\n",
       "</pre>\n"
      ],
      "text/plain": [
       "Learning Rate: \u001b[1;36m0.001000\u001b[0m\n"
      ]
     },
     "metadata": {},
     "output_type": "display_data"
    },
    {
     "data": {
      "text/html": [
       "<pre style=\"white-space:pre;overflow-x:auto;line-height:normal;font-family:Menlo,'DejaVu Sans Mono',consolas,'Courier New',monospace\">Validation Score: <span style=\"color: #008080; text-decoration-color: #008080; font-weight: bold\">0.6176</span>\n",
       "</pre>\n"
      ],
      "text/plain": [
       "Validation Score: \u001b[1;36m0.6176\u001b[0m\n"
      ]
     },
     "metadata": {},
     "output_type": "display_data"
    }
   ],
   "source": [
    "# 设置参数\n",
    "bs = 64    # 批次大小\n",
    "epochs = 50    # 训练的迭代次数\n",
    "lr = 0.001    # 学习率\n",
    "seed = 42    # 随机种子\n",
    "output_dir = \"output/models\"    # 模型保存路径\n",
    "\n",
    "# 选择设备\n",
    "device = 'cuda' if torch.cuda.is_available() else 'cpu'\n",
    "\n",
    "# 设置随机种子以确保结果可重复\n",
    "set_random_seed(seed)\n",
    "\n",
    "# 创建输出目录\n",
    "if not os.path.exists(output_dir):\n",
    "    os.makedirs(output_dir)\n",
    "\n",
    "# 加载数据\n",
    "train_data = pd.read_csv('train_data.csv')\n",
    "\n",
    "# 指定需要处理的列\n",
    "columns = ['siRNA_antisense_seq', 'modified_siRNA_antisense_seq_list']\n",
    "# 删除包含空值的行\n",
    "train_data.dropna(subset=columns + ['mRNA_remaining_pct'], inplace=True)\n",
    "# 将数据分为训练集和验证集\n",
    "train_data, val_data = train_test_split(train_data, test_size=0.1, random_state=42)\n",
    "\n",
    "# 创建分词器\n",
    "tokenizer = GenomicTokenizer(ngram=3, stride=3)\n",
    "\n",
    "# 创建词汇表\n",
    "all_tokens = []\n",
    "for col in columns:\n",
    "    for seq in train_data[col]:\n",
    "        if ' ' in seq:  # 修改过的序列\n",
    "            all_tokens.extend(seq.split())\n",
    "        else:\n",
    "            all_tokens.extend(tokenizer.tokenize(seq))\n",
    "vocab = GenomicVocab.create(all_tokens, max_vocab=10000, min_freq=1)\n",
    "\n",
    "# 找到最大序列长度\n",
    "max_len = max(max(len(seq.split()) if ' ' in seq else len(tokenizer.tokenize(seq)) \n",
    "                    for seq in train_data[col]) for col in columns)\n",
    "\n",
    "# 创建数据集\n",
    "train_dataset = SiRNADataset(train_data, columns, vocab, tokenizer, max_len)\n",
    "val_dataset = SiRNADataset(val_data, columns, vocab, tokenizer, max_len)\n",
    "\n",
    "# 创建数据加载器\n",
    "train_loader = DataLoader(train_dataset, batch_size=bs, shuffle=True)\n",
    "val_loader = DataLoader(val_dataset, batch_size=bs)\n",
    "\n",
    "# 初始化模型\n",
    "model = SiRNAModel(len(vocab.itos))\n",
    "criterion = nn.MSELoss()\n",
    "\n",
    "# 初始化优化器\n",
    "optimizer = optim.Adam(model.parameters(), lr=lr)\n",
    "\n",
    "# 训练模型\n",
    "best_model = train_model(model, train_loader, val_loader, criterion, optimizer, epochs, device, output_dir=output_dir)\n"
   ]
  },
  {
   "cell_type": "markdown",
   "metadata": {},
   "source": [
    "### 10. 测试程序"
   ]
  },
  {
   "cell_type": "code",
   "execution_count": 25,
   "metadata": {
    "execution": {
     "iopub.execute_input": "2024-07-22T11:17:56.954113Z",
     "iopub.status.busy": "2024-07-22T11:17:56.953768Z",
     "iopub.status.idle": "2024-07-22T11:17:58.038777Z",
     "shell.execute_reply": "2024-07-22T11:17:58.038271Z",
     "shell.execute_reply.started": "2024-07-22T11:17:56.954093Z"
    },
    "tags": []
   },
   "outputs": [
    {
     "name": "stderr",
     "output_type": "stream",
     "text": [
      "100%|██████████| 77/77 [00:00<00:00, 132.33it/s]\n"
     ]
    },
    {
     "data": {
      "text/html": [
       "<pre style=\"white-space:pre;overflow-x:auto;line-height:normal;font-family:Menlo,'DejaVu Sans Mono',consolas,'Courier New',monospace\">submission.csv 保存在 result/submission.csv\n",
       "</pre>\n"
      ],
      "text/plain": [
       "submission.csv 保存在 result/submission.csv\n"
      ]
     },
     "metadata": {},
     "output_type": "display_data"
    }
   ],
   "source": [
    "# 设置输出目录\n",
    "output_dir = \"result\"\n",
    "if not os.path.exists(output_dir):\n",
    "    os.makedirs(output_dir)\n",
    "\n",
    "# 加载测试数据\n",
    "test_data = pd.read_csv('sample_submission.csv')\n",
    "columns = ['siRNA_antisense_seq', 'modified_siRNA_antisense_seq_list']\n",
    "test_data.dropna(subset=columns, inplace=True)\n",
    "\n",
    "# 创建分词器\n",
    "tokenizer = GenomicTokenizer(ngram=3, stride=3)\n",
    "\n",
    "# 创建词汇表\n",
    "all_tokens = []\n",
    "for col in columns:\n",
    "    for seq in test_data[col]:\n",
    "        if ' ' in seq:  # 修改过的序列\n",
    "            all_tokens.extend(seq.split())\n",
    "        else:\n",
    "            all_tokens.extend(tokenizer.tokenize(seq))\n",
    "            \n",
    "vocab = GenomicVocab.create(all_tokens, max_vocab=10000, min_freq=1)\n",
    "\n",
    "# 找到最大序列长度\n",
    "max_len = max(max(len(seq.split()) if ' ' in seq else len(tokenizer.tokenize(seq)) \n",
    "                    for seq in test_data[col]) for col in columns)\n",
    "\n",
    "# 创建测试数据集\n",
    "test_dataset = SiRNADataset(test_data, columns, vocab, tokenizer, max_len, is_test=True)\n",
    "\n",
    "# 创建数据加载器\n",
    "test_loader = DataLoader(test_dataset, batch_size=64, shuffle=False)\n",
    "\n",
    "# 初始化模型\n",
    "model = SiRNAModel(len(vocab.itos))\n",
    "model.load_state_dict(best_model)  # 加载最佳模型权重\n",
    "model.to(device=device)\n",
    "model.eval()  # 切换到评估模式，这对于某些模块如Dropout和BatchNorm是必需的\n",
    "\n",
    "# 进行预测\n",
    "preds = []\n",
    "with torch.no_grad():\n",
    "    for inputs in tqdm(test_loader):\n",
    "        # import pdb;pdb.set_trace()\n",
    "        inputs = [x.to(device) for x in inputs]\n",
    "        outputs = model(inputs)\n",
    "        preds.extend(outputs.cpu().numpy())\n",
    "\n",
    "# 将预测结果添加到测试数据中\n",
    "test_data[\"mRNA_remaining_pct\"] = preds\n",
    "df = pd.DataFrame(test_data)\n",
    "\n",
    "# 保存预测结果\n",
    "output_csv = os.path.join(output_dir, \"submission.csv\")\n",
    "print(f\"submission.csv 保存在 {output_csv}\")\n",
    "df.to_csv(output_csv, index=False)\n"
   ]
  },
  {
   "cell_type": "code",
   "execution_count": null,
   "metadata": {},
   "outputs": [],
   "source": []
  }
 ],
 "metadata": {
  "kernelspec": {
   "display_name": "Python 3 (ipykernel)",
   "language": "python",
   "name": "python3"
  },
  "language_info": {
   "codemirror_mode": {
    "name": "ipython",
    "version": 3
   },
   "file_extension": ".py",
   "mimetype": "text/x-python",
   "name": "python",
   "nbconvert_exporter": "python",
   "pygments_lexer": "ipython3",
   "version": "3.10.14"
  }
 },
 "nbformat": 4,
 "nbformat_minor": 4
}
